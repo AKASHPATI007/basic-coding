{
  "nbformat": 4,
  "nbformat_minor": 0,
  "metadata": {
    "colab": {
      "provenance": [],
      "authorship_tag": "ABX9TyOPSCOEC93lfESgrx0WSKMa",
      "include_colab_link": true
    },
    "kernelspec": {
      "name": "python3",
      "display_name": "Python 3"
    },
    "language_info": {
      "name": "python"
    }
  },
  "cells": [
    {
      "cell_type": "markdown",
      "metadata": {
        "id": "view-in-github",
        "colab_type": "text"
      },
      "source": [
        "<a href=\"https://colab.research.google.com/github/AKASHPATI007/basic-coding/blob/main/Basic_Coding_Concept.ipynb\" target=\"_parent\"><img src=\"https://colab.research.google.com/assets/colab-badge.svg\" alt=\"Open In Colab\"/></a>"
      ]
    },
    {
      "cell_type": "markdown",
      "source": [
        "**STRING**"
      ],
      "metadata": {
        "id": "wAEcm26c61p2"
      }
    },
    {
      "cell_type": "code",
      "execution_count": null,
      "metadata": {
        "colab": {
          "base_uri": "https://localhost:8080/"
        },
        "id": "VCUXlVPt6j15",
        "outputId": "db2e01f4-eda4-4635-9516-d7b9c8ec1b3d"
      },
      "outputs": [
        {
          "output_type": "stream",
          "name": "stdout",
          "text": [
            "10\n"
          ]
        }
      ],
      "source": [
        "# LEN\n",
        "algo = 'regression'\n",
        "print(len(algo))"
      ]
    },
    {
      "cell_type": "code",
      "source": [
        "# STRING INDEXING\n",
        "string = 'JOKER'\n",
        "print(string[1])\n",
        "print(string[-1])\n",
        "print(string[-4])"
      ],
      "metadata": {
        "colab": {
          "base_uri": "https://localhost:8080/"
        },
        "id": "qncC6E8H7gng",
        "outputId": "ceeeb21e-e1fe-4587-df8f-d7219e406f59"
      },
      "execution_count": null,
      "outputs": [
        {
          "output_type": "stream",
          "name": "stdout",
          "text": [
            "O\n",
            "R\n",
            "O\n"
          ]
        }
      ]
    },
    {
      "cell_type": "code",
      "source": [
        "# STRING SLICING\n",
        "print(string[1:5])\n",
        "print(string[-2:])\n",
        "print(string[:-1])\n",
        "print(string[-3:-1])\n",
        "print(string[1:-1])\n",
        "            "
      ],
      "metadata": {
        "colab": {
          "base_uri": "https://localhost:8080/"
        },
        "id": "4mIBb9Tc8DTM",
        "outputId": "916f8640-5e6e-413a-a6e5-8b2d8b7b0586"
      },
      "execution_count": null,
      "outputs": [
        {
          "output_type": "stream",
          "name": "stdout",
          "text": [
            "OKER\n",
            "ER\n",
            "JOKE\n",
            "KE\n",
            "OKE\n"
          ]
        }
      ]
    },
    {
      "cell_type": "code",
      "source": [
        "# step size\n",
        "print(string[1:5:2])\n",
        "print(string[4:1:-1])\n",
        "print(string[::-1])\n",
        "print(string[::-3])\n",
        "print(string[0::-3])\n",
        "print(string[1::-3])"
      ],
      "metadata": {
        "colab": {
          "base_uri": "https://localhost:8080/"
        },
        "id": "0WwRtQos9ta3",
        "outputId": "7f56e920-5547-4a6e-a654-45cecba92b25"
      },
      "execution_count": null,
      "outputs": [
        {
          "output_type": "stream",
          "name": "stdout",
          "text": [
            "OE\n",
            "REK\n",
            "REKOJ\n",
            "RO\n",
            "J\n",
            "O\n"
          ]
        }
      ]
    },
    {
      "cell_type": "code",
      "source": [
        "# lower\n",
        "a = 'ALGORITHM'\n",
        "print(a.lower())\n",
        "A= 'ALGORITHM'\n",
        "print(A.upper())"
      ],
      "metadata": {
        "id": "o9UFAl2y93NF",
        "colab": {
          "base_uri": "https://localhost:8080/"
        },
        "outputId": "0b50f819-4b83-49ed-8b24-d330e0c7cb28"
      },
      "execution_count": null,
      "outputs": [
        {
          "output_type": "stream",
          "name": "stdout",
          "text": [
            "algorithm\n",
            "ALGORITHM\n"
          ]
        }
      ]
    },
    {
      "cell_type": "code",
      "source": [
        "# Count\n",
        "a = 'neural network'\n",
        "print(a.count('ne'))\n",
        "print(a.count('l'))"
      ],
      "metadata": {
        "colab": {
          "base_uri": "https://localhost:8080/"
        },
        "id": "WHDv_hqCufp2",
        "outputId": "ec7119e2-cf23-494b-dfd2-c58d08aeedde"
      },
      "execution_count": null,
      "outputs": [
        {
          "output_type": "stream",
          "name": "stdout",
          "text": [
            "2\n",
            "1\n"
          ]
        }
      ]
    },
    {
      "cell_type": "code",
      "source": [
        "# find\n",
        "print(a.find('a'))"
      ],
      "metadata": {
        "colab": {
          "base_uri": "https://localhost:8080/"
        },
        "id": "GBLT96fyu_iE",
        "outputId": "d9b86f91-7c05-4add-c1a0-5331bf242be7"
      },
      "execution_count": null,
      "outputs": [
        {
          "output_type": "stream",
          "name": "stdout",
          "text": [
            "4\n"
          ]
        }
      ]
    },
    {
      "cell_type": "code",
      "source": [
        "# replace\n",
        "print(a.replace('n','l'))"
      ],
      "metadata": {
        "colab": {
          "base_uri": "https://localhost:8080/"
        },
        "id": "M46jM_yyvLXK",
        "outputId": "a4ba94fc-4141-418b-eae7-a67a1d9afe86"
      },
      "execution_count": null,
      "outputs": [
        {
          "output_type": "stream",
          "name": "stdout",
          "text": [
            "leural letwork\n"
          ]
        }
      ]
    },
    {
      "cell_type": "code",
      "source": [
        "# f string\n",
        "FN = 'Akashpati'\n",
        "LN = 'Mishra'\n",
        "print(f\"{FN} {LN}\")"
      ],
      "metadata": {
        "colab": {
          "base_uri": "https://localhost:8080/"
        },
        "id": "E2zsxrkqvsb1",
        "outputId": "5f9dbe6c-d856-44ef-b2cc-565e0b083d8f"
      },
      "execution_count": null,
      "outputs": [
        {
          "output_type": "stream",
          "name": "stdout",
          "text": [
            "Akashpati Mishra\n"
          ]
        }
      ]
    },
    {
      "cell_type": "markdown",
      "source": [
        "**List**"
      ],
      "metadata": {
        "id": "IaYglugMwKmA"
      }
    },
    {
      "cell_type": "code",
      "source": [
        "my_list = ['string', 23 ,100.20, '0' , True]\n",
        "my_list"
      ],
      "metadata": {
        "colab": {
          "base_uri": "https://localhost:8080/"
        },
        "id": "R9bn3ltbwP3q",
        "outputId": "b747fb69-e45b-43bb-f5c0-efc927a9064d"
      },
      "execution_count": null,
      "outputs": [
        {
          "output_type": "execute_result",
          "data": {
            "text/plain": [
              "['string', 23, 100.2, '0', True]"
            ]
          },
          "metadata": {},
          "execution_count": 12
        }
      ]
    },
    {
      "cell_type": "code",
      "source": [
        "# List Indexing\n",
        "# List Slicing"
      ],
      "metadata": {
        "id": "VV8flUcQyito"
      },
      "execution_count": null,
      "outputs": []
    },
    {
      "cell_type": "code",
      "source": [
        "# aggregation function\n",
        "new_list = [2,54,7,5,4,3,45]\n",
        "print(min(new_list))\n",
        "print(max(new_list))\n",
        "print(sum(new_list))\n",
        "print(sorted(new_list))\n"
      ],
      "metadata": {
        "colab": {
          "base_uri": "https://localhost:8080/"
        },
        "id": "XdBmUQZYzCvK",
        "outputId": "f06dd351-cd0d-4a6f-81da-e20cd9dc8e29"
      },
      "execution_count": null,
      "outputs": [
        {
          "output_type": "stream",
          "name": "stdout",
          "text": [
            "2\n",
            "54\n",
            "120\n",
            "[2, 3, 4, 5, 7, 45, 54]\n"
          ]
        }
      ]
    },
    {
      "cell_type": "code",
      "source": [
        "# Sorted\n",
        "new_list2 = ['akash', 'Sujain', 'preeti', 'Sabha', 'neha']\n",
        "print(sorted(new_list2))\n",
        "print(sorted(new_list2,reverse = True))"
      ],
      "metadata": {
        "colab": {
          "base_uri": "https://localhost:8080/"
        },
        "id": "RYq8kqvrzl6o",
        "outputId": "9030edae-29db-4499-f22c-876034ea419d"
      },
      "execution_count": null,
      "outputs": [
        {
          "output_type": "stream",
          "name": "stdout",
          "text": [
            "['Sabha', 'Sujain', 'akash', 'neha', 'preeti']\n",
            "['preeti', 'neha', 'akash', 'Sujain', 'Sabha']\n"
          ]
        }
      ]
    },
    {
      "cell_type": "code",
      "source": [
        "# List Method\n",
        "# Append\n",
        "my_list = [1,2,5,4,7,99]\n",
        "my_list.append(45)\n",
        "print(my_list)"
      ],
      "metadata": {
        "colab": {
          "base_uri": "https://localhost:8080/"
        },
        "id": "QNT5Pnzf0rpW",
        "outputId": "5e2f0b43-bbfd-4245-a050-df80e21a795d"
      },
      "execution_count": null,
      "outputs": [
        {
          "output_type": "stream",
          "name": "stdout",
          "text": [
            "[1, 2, 5, 4, 7, 99, 45]\n"
          ]
        }
      ]
    },
    {
      "cell_type": "code",
      "source": [
        "my_list.append([1,4,3])\n",
        "print(my_list)"
      ],
      "metadata": {
        "colab": {
          "base_uri": "https://localhost:8080/"
        },
        "id": "AWso0VFp1z3g",
        "outputId": "4476a0f4-faa2-4790-887d-8a0782b91110"
      },
      "execution_count": null,
      "outputs": [
        {
          "output_type": "stream",
          "name": "stdout",
          "text": [
            "[1, 2, 5, 4, 7, 99, 45, [1, 4, 3]]\n"
          ]
        }
      ]
    },
    {
      "cell_type": "code",
      "source": [
        "# Extend\n",
        "my_list.extend([11,3,8])\n",
        "print(my_list)"
      ],
      "metadata": {
        "colab": {
          "base_uri": "https://localhost:8080/"
        },
        "id": "owvwAQ1x2DoJ",
        "outputId": "f107645b-a3db-45d8-caf1-e50acb5b3f6d"
      },
      "execution_count": null,
      "outputs": [
        {
          "output_type": "stream",
          "name": "stdout",
          "text": [
            "[1, 2, 5, 4, 7, 99, 45, [1, 4, 3], 11, 3, 8]\n"
          ]
        }
      ]
    },
    {
      "cell_type": "code",
      "source": [
        "# POp\n",
        "print(my_list.pop())\n",
        "print(my_list)\n"
      ],
      "metadata": {
        "id": "O0-3qGrm2X9J",
        "colab": {
          "base_uri": "https://localhost:8080/"
        },
        "outputId": "248aebfd-ca4d-4f1d-98b6-f7a3aa0abb90"
      },
      "execution_count": null,
      "outputs": [
        {
          "output_type": "stream",
          "name": "stdout",
          "text": [
            "11\n",
            "[1, 2, 5, 4, 7, 99, 45, [1, 4, 3]]\n"
          ]
        }
      ]
    },
    {
      "cell_type": "code",
      "source": [
        "print(my_list.pop(4))\n",
        "print(my_list)"
      ],
      "metadata": {
        "colab": {
          "base_uri": "https://localhost:8080/"
        },
        "id": "0QylBS3w0jAm",
        "outputId": "9120c78c-1c6e-4e13-d409-b76fd59ec3a8"
      },
      "execution_count": null,
      "outputs": [
        {
          "output_type": "stream",
          "name": "stdout",
          "text": [
            "7\n",
            "[1, 2, 5, 4, 99, 45, [1, 4, 3]]\n"
          ]
        }
      ]
    },
    {
      "cell_type": "code",
      "source": [
        "# remove()\n",
        "k_list = [1,2,3,4,5,6,7]\n",
        "k_list.remove(5)\n",
        "print(k_list)"
      ],
      "metadata": {
        "colab": {
          "base_uri": "https://localhost:8080/"
        },
        "id": "sPKUAjQy1H57",
        "outputId": "05999fe8-c5e5-41a3-e59e-a800c80932f9"
      },
      "execution_count": null,
      "outputs": [
        {
          "output_type": "stream",
          "name": "stdout",
          "text": [
            "[1, 2, 3, 4, 6, 7]\n"
          ]
        }
      ]
    },
    {
      "cell_type": "code",
      "source": [
        "# clear-- clear the list--\n",
        "k_list.clear()\n",
        "k_list"
      ],
      "metadata": {
        "colab": {
          "base_uri": "https://localhost:8080/"
        },
        "id": "avR1eMlB1RGB",
        "outputId": "19273df4-8bb5-4411-fc52-16f95a2abf3b"
      },
      "execution_count": null,
      "outputs": [
        {
          "output_type": "execute_result",
          "data": {
            "text/plain": [
              "[]"
            ]
          },
          "metadata": {},
          "execution_count": 34
        }
      ]
    },
    {
      "cell_type": "code",
      "source": [
        "# count-- returns total occurance of specified element\n",
        "a_list = [1,2,45,2,5,2,6,8,5,3,3,6,8,'jyoti']\n",
        "a_list.count(2)"
      ],
      "metadata": {
        "colab": {
          "base_uri": "https://localhost:8080/"
        },
        "id": "lNghH9Xc2EIa",
        "outputId": "4bf42d7d-0e34-42c0-dc5d-3ac5cc14c7a2"
      },
      "execution_count": null,
      "outputs": [
        {
          "output_type": "execute_result",
          "data": {
            "text/plain": [
              "3"
            ]
          },
          "metadata": {},
          "execution_count": 31
        }
      ]
    },
    {
      "cell_type": "code",
      "source": [
        "# index()-returns the index of specified element\n",
        "print(a_list.index(45))\n",
        "print(a_list.index('jyoti'))"
      ],
      "metadata": {
        "colab": {
          "base_uri": "https://localhost:8080/"
        },
        "id": "QCJcuPoF2csO",
        "outputId": "bd5483ff-aef7-49e0-b987-8c374bc96852"
      },
      "execution_count": null,
      "outputs": [
        {
          "output_type": "stream",
          "name": "stdout",
          "text": [
            "2\n",
            "13\n"
          ]
        }
      ]
    },
    {
      "cell_type": "code",
      "source": [
        "#sort() - sort either ascending or descending order\n",
        "b_list = [4,2,67,45,3,6,8,65,4,3,3]\n",
        "b_list.sort()\n",
        "b_list"
      ],
      "metadata": {
        "colab": {
          "base_uri": "https://localhost:8080/"
        },
        "id": "1Do9OtG-2TMU",
        "outputId": "0855b45d-2c02-40e6-880e-d981dfc7861e"
      },
      "execution_count": null,
      "outputs": [
        {
          "output_type": "execute_result",
          "data": {
            "text/plain": [
              "[2, 3, 3, 3, 4, 4, 6, 8, 45, 65, 67]"
            ]
          },
          "metadata": {},
          "execution_count": 40
        }
      ]
    },
    {
      "cell_type": "code",
      "source": [
        "#  reverse()- reverse the list\n",
        "b_list.reverse()\n",
        "b_list"
      ],
      "metadata": {
        "colab": {
          "base_uri": "https://localhost:8080/"
        },
        "id": "f8n7E38G5WZS",
        "outputId": "324445cb-3ce2-4378-f69d-7195298a8380"
      },
      "execution_count": null,
      "outputs": [
        {
          "output_type": "execute_result",
          "data": {
            "text/plain": [
              "[67, 65, 45, 8, 6, 4, 4, 3, 3, 3, 2]"
            ]
          },
          "metadata": {},
          "execution_count": 41
        }
      ]
    },
    {
      "cell_type": "code",
      "source": [
        "import array as arr\n",
        "\n",
        "# creating an integer data type array\n",
        "x = arr.array('i', [1,2,3,4,5,6,7])\n",
        "\n",
        "\n",
        "# creatomg a list\n",
        "y = [8, 9, 10]\n",
        "\n",
        "# using the fromlist() function\n",
        "x.fromlist(y)\n",
        "\n",
        "# Printing the new array\n",
        "print(x)\n"
      ],
      "metadata": {
        "colab": {
          "base_uri": "https://localhost:8080/"
        },
        "id": "ROeUdOzz6Qxm",
        "outputId": "b3774386-9b71-44b4-efa1-31a1396c1eff"
      },
      "execution_count": null,
      "outputs": [
        {
          "output_type": "stream",
          "name": "stdout",
          "text": [
            "array('i', [1, 2, 3, 4, 5, 6, 7, 8, 9, 10])\n"
          ]
        }
      ]
    },
    {
      "cell_type": "code",
      "source": [
        "x.tolist()\n",
        "x"
      ],
      "metadata": {
        "colab": {
          "base_uri": "https://localhost:8080/"
        },
        "id": "Ba5YG0Aj8szN",
        "outputId": "c9425052-fc9d-46bc-9a73-9bb978301d1f"
      },
      "execution_count": null,
      "outputs": [
        {
          "output_type": "execute_result",
          "data": {
            "text/plain": [
              "array('i', [1, 2, 3, 4, 5, 6, 7])"
            ]
          },
          "metadata": {},
          "execution_count": 45
        }
      ]
    },
    {
      "cell_type": "markdown",
      "source": [
        "**Tuples, Sets and Dictionary**\n",
        "\n",
        "Tuple is immutable"
      ],
      "metadata": {
        "id": "3m52pgge98ET"
      }
    },
    {
      "cell_type": "code",
      "source": [
        "# use () bracket for tuple\n",
        "my_tuple = (1,2,3,4,5)\n",
        "my_tuple"
      ],
      "metadata": {
        "colab": {
          "base_uri": "https://localhost:8080/"
        },
        "id": "xqbImm8a9bs9",
        "outputId": "71d79aa9-4f08-4be1-f8c7-f4ab5b3e91a6"
      },
      "execution_count": null,
      "outputs": [
        {
          "output_type": "execute_result",
          "data": {
            "text/plain": [
              "(1, 2, 3, 4, 5)"
            ]
          },
          "metadata": {},
          "execution_count": 46
        }
      ]
    },
    {
      "cell_type": "code",
      "source": [
        "# tuple indexing , tuple slicing working is same a string or list working\n",
        "# remember to see brackets\n",
        "print(my_tuple[2])"
      ],
      "metadata": {
        "colab": {
          "base_uri": "https://localhost:8080/"
        },
        "id": "TY7bOg_d2sPk",
        "outputId": "dfbf53b4-1018-4063-fad9-51a50cf52974"
      },
      "execution_count": null,
      "outputs": [
        {
          "output_type": "stream",
          "name": "stdout",
          "text": [
            "3\n"
          ]
        }
      ]
    },
    {
      "cell_type": "code",
      "source": [
        "# indexing\n",
        "my_tuple = (1,2,3,4,5)\n",
        "my_tuple.index(2)"
      ],
      "metadata": {
        "colab": {
          "base_uri": "https://localhost:8080/"
        },
        "id": "ARy0iOwF3Z6R",
        "outputId": "383eb9b9-13c9-42e5-dcb6-270ca88bb8b8"
      },
      "execution_count": null,
      "outputs": [
        {
          "output_type": "execute_result",
          "data": {
            "text/plain": [
              "1"
            ]
          },
          "metadata": {},
          "execution_count": 50
        }
      ]
    },
    {
      "cell_type": "code",
      "source": [
        "# Tuple does not support method such as append(), extend(), remove(), pop()"
      ],
      "metadata": {
        "id": "HMmeWlpn3xed"
      },
      "execution_count": null,
      "outputs": []
    },
    {
      "cell_type": "code",
      "source": [
        "# zip()\n",
        "city_list = ['del','pat','cutt','guw']\n",
        "riv_list = ['yam','ganga','mahanadi','brahmputra']\n",
        "city_river = list(zip(city_list,riv_list))\n",
        "print(city_river)"
      ],
      "metadata": {
        "colab": {
          "base_uri": "https://localhost:8080/"
        },
        "id": "-uILfCJU4TPK",
        "outputId": "dced5a34-ced9-4415-c1a8-700eae0b2b27"
      },
      "execution_count": null,
      "outputs": [
        {
          "output_type": "stream",
          "name": "stdout",
          "text": [
            "[('del', 'yam'), ('pat', 'ganga'), ('cutt', 'mahanadi'), ('guw', 'brahmputra')]\n"
          ]
        }
      ]
    },
    {
      "cell_type": "code",
      "source": [
        "# convert to dictionary\n",
        "dict_1 = dict(city_river)\n",
        "dict_1"
      ],
      "metadata": {
        "colab": {
          "base_uri": "https://localhost:8080/"
        },
        "id": "qGq0Rggf5ENK",
        "outputId": "dea7e24d-fe6d-4841-d9b8-f7fe3b870373"
      },
      "execution_count": null,
      "outputs": [
        {
          "output_type": "execute_result",
          "data": {
            "text/plain": [
              "{'del': 'yam', 'pat': 'ganga', 'cutt': 'mahanadi', 'guw': 'brahmputra'}"
            ]
          },
          "metadata": {},
          "execution_count": 52
        }
      ]
    },
    {
      "cell_type": "markdown",
      "source": [
        "**SET**"
      ],
      "metadata": {
        "id": "w_9dCwIx5Yz-"
      }
    },
    {
      "cell_type": "code",
      "source": [
        "# empty_set =set()\n",
        "# non_emppty_set = {1,3,5,'abc'}\n"
      ],
      "metadata": {
        "id": "MnaGmFXP5eLn"
      },
      "execution_count": null,
      "outputs": []
    },
    {
      "cell_type": "code",
      "source": [
        "my_list = [1,1,2,4,3,3,2,4,6,5,4,3,3,8,7,6,5,4]\n",
        "my_set = set(my_list)\n",
        "my_set"
      ],
      "metadata": {
        "colab": {
          "base_uri": "https://localhost:8080/"
        },
        "id": "KP1AehYV5u9w",
        "outputId": "4aeaff10-8cb3-4df5-ec21-51769f45708e"
      },
      "execution_count": null,
      "outputs": [
        {
          "output_type": "execute_result",
          "data": {
            "text/plain": [
              "{1, 2, 3, 4, 5, 6, 7, 8}"
            ]
          },
          "metadata": {},
          "execution_count": 54
        }
      ]
    },
    {
      "cell_type": "code",
      "source": [
        "# Set can't have mutable item but set is mutable \n",
        "my_set = {1,2,[3,4]}\n",
        "my_set"
      ],
      "metadata": {
        "colab": {
          "base_uri": "https://localhost:8080/",
          "height": 200
        },
        "id": "Sz_eX9ze76wX",
        "outputId": "7a8de708-06f3-45a7-eb5d-424becaf9e8a"
      },
      "execution_count": null,
      "outputs": [
        {
          "output_type": "error",
          "ename": "TypeError",
          "evalue": "ignored",
          "traceback": [
            "\u001b[0;31m---------------------------------------------------------------------------\u001b[0m",
            "\u001b[0;31mTypeError\u001b[0m                                 Traceback (most recent call last)",
            "\u001b[0;32m<ipython-input-55-7b5703986225>\u001b[0m in \u001b[0;36m<cell line: 2>\u001b[0;34m()\u001b[0m\n\u001b[1;32m      1\u001b[0m \u001b[0;31m# Set can't have mutable item but set is mutable\u001b[0m\u001b[0;34m\u001b[0m\u001b[0;34m\u001b[0m\u001b[0m\n\u001b[0;32m----> 2\u001b[0;31m \u001b[0mmy_set\u001b[0m \u001b[0;34m=\u001b[0m \u001b[0;34m{\u001b[0m\u001b[0;36m1\u001b[0m\u001b[0;34m,\u001b[0m\u001b[0;36m2\u001b[0m\u001b[0;34m,\u001b[0m\u001b[0;34m[\u001b[0m\u001b[0;36m3\u001b[0m\u001b[0;34m,\u001b[0m\u001b[0;36m4\u001b[0m\u001b[0;34m]\u001b[0m\u001b[0;34m}\u001b[0m\u001b[0;34m\u001b[0m\u001b[0;34m\u001b[0m\u001b[0m\n\u001b[0m\u001b[1;32m      3\u001b[0m \u001b[0mmy_set\u001b[0m\u001b[0;34m\u001b[0m\u001b[0;34m\u001b[0m\u001b[0m\n",
            "\u001b[0;31mTypeError\u001b[0m: unhashable type: 'list'"
          ]
        }
      ]
    },
    {
      "cell_type": "markdown",
      "source": [
        "*Sets Methods*"
      ],
      "metadata": {
        "id": "xy8sJqBqj9Yc"
      }
    },
    {
      "cell_type": "code",
      "source": [
        "# Add\n",
        "my_set = set()\n",
        "my_set.add('a')\n",
        "my_set"
      ],
      "metadata": {
        "id": "VwupuIk38S5x",
        "colab": {
          "base_uri": "https://localhost:8080/"
        },
        "outputId": "097083e9-cb78-4e63-a487-9a2fed947a73"
      },
      "execution_count": null,
      "outputs": [
        {
          "output_type": "execute_result",
          "data": {
            "text/plain": [
              "{'a'}"
            ]
          },
          "metadata": {},
          "execution_count": 2
        }
      ]
    },
    {
      "cell_type": "code",
      "source": [
        "# update-- add multiple element to set\n",
        "my_set1 = {4,2,6,8}\n",
        "my_set1.update([2,7,4])\n",
        "my_set1\n"
      ],
      "metadata": {
        "colab": {
          "base_uri": "https://localhost:8080/"
        },
        "id": "rdzRLQ_NkK0D",
        "outputId": "63af1c38-20ac-48fe-c88b-c478a0fcb255"
      },
      "execution_count": null,
      "outputs": [
        {
          "output_type": "execute_result",
          "data": {
            "text/plain": [
              "{2, 4, 6, 7, 8}"
            ]
          },
          "metadata": {},
          "execution_count": 3
        }
      ]
    },
    {
      "cell_type": "code",
      "source": [
        "# Remove()--remove an item or element from set\n",
        "my_set2 ={2,4,6,8,9,32,5}\n",
        "my_set2.remove(32)\n",
        "my_set2"
      ],
      "metadata": {
        "colab": {
          "base_uri": "https://localhost:8080/"
        },
        "id": "6EEEAJDmkqx2",
        "outputId": "f692b9d9-d86a-49be-b131-69909c462e30"
      },
      "execution_count": null,
      "outputs": [
        {
          "output_type": "execute_result",
          "data": {
            "text/plain": [
              "{2, 4, 5, 6, 8, 9}"
            ]
          },
          "metadata": {},
          "execution_count": 5
        }
      ]
    },
    {
      "cell_type": "code",
      "source": [
        "# Union()-- Also denoted by '|'\n",
        "a = {1,2,3,4,5,6}\n",
        "b = {4,6,87,9,6}\n",
        "print(a|b)\n",
        "# or print(a.union(b))"
      ],
      "metadata": {
        "colab": {
          "base_uri": "https://localhost:8080/"
        },
        "id": "Z_Jpq_N0le2-",
        "outputId": "7b071c2c-c439-4b2e-ace6-67114f01fc97"
      },
      "execution_count": null,
      "outputs": [
        {
          "output_type": "stream",
          "name": "stdout",
          "text": [
            "{1, 2, 3, 4, 5, 6, 9, 87}\n"
          ]
        }
      ]
    },
    {
      "cell_type": "code",
      "source": [
        "# Intersection() --- Also denoted by '&'\n",
        "a = {1,2,3,4,5,6}\n",
        "b = {4,6,87,9,6}\n",
        "print(a&b)\n",
        "# or print(a.intersection(b))"
      ],
      "metadata": {
        "colab": {
          "base_uri": "https://localhost:8080/"
        },
        "id": "tlqyk3YmmKdK",
        "outputId": "49c2f1ce-77b4-43b7-83bd-c51a30a9b355"
      },
      "execution_count": null,
      "outputs": [
        {
          "output_type": "stream",
          "name": "stdout",
          "text": [
            "{4, 6}\n"
          ]
        }
      ]
    },
    {
      "cell_type": "code",
      "source": [
        "# Difference()---returns difference of two set i.e.(a-b)\n",
        "a = {1,2,3,4,5,6}\n",
        "b = {4,6,87,9,6}\n",
        "print(a-b)\n",
        "# or print(a.difference(b))"
      ],
      "metadata": {
        "colab": {
          "base_uri": "https://localhost:8080/"
        },
        "id": "7hyk-7jfnSr9",
        "outputId": "be081bf7-4f63-4c66-ac6e-3ef453cd6ca3"
      },
      "execution_count": null,
      "outputs": [
        {
          "output_type": "stream",
          "name": "stdout",
          "text": [
            "{1, 2, 3, 5}\n"
          ]
        }
      ]
    },
    {
      "cell_type": "code",
      "source": [
        "# Symmetric Difference--denoted by '^' returns the set of elements in a&b but not in both{ or excluding intersection}\n",
        "a = {1,2,3,4,5,6}\n",
        "b = {4,6,87,9,6}\n",
        "print(a^b)\n",
        "# print(a.symmetric_difference)"
      ],
      "metadata": {
        "colab": {
          "base_uri": "https://localhost:8080/"
        },
        "id": "MYRycv6mn-fK",
        "outputId": "9194c2dd-6f03-4980-8b59-8722dbebbc8e"
      },
      "execution_count": null,
      "outputs": [
        {
          "output_type": "stream",
          "name": "stdout",
          "text": [
            "{1, 2, 3, 5, 9, 87}\n"
          ]
        }
      ]
    },
    {
      "cell_type": "markdown",
      "source": [
        "**Dictionary**"
      ],
      "metadata": {
        "id": "HDd2s0h_qC0_"
      }
    },
    {
      "cell_type": "markdown",
      "source": [
        "*Dictionary Method*"
      ],
      "metadata": {
        "id": "7J943eBKrW-p"
      }
    },
    {
      "cell_type": "code",
      "source": [
        "marvel_dict = {'name':'thor','place':'asgard','weapon':'hammer',3:'power'}\n",
        "marvel_dict['place']"
      ],
      "metadata": {
        "colab": {
          "base_uri": "https://localhost:8080/",
          "height": 35
        },
        "id": "8wp4Rwe1p-4s",
        "outputId": "628ae2cc-72a0-4328-dd0d-e4c4064302c3"
      },
      "execution_count": null,
      "outputs": [
        {
          "output_type": "execute_result",
          "data": {
            "text/plain": [
              "'asgard'"
            ],
            "application/vnd.google.colaboratory.intrinsic+json": {
              "type": "string"
            }
          },
          "metadata": {},
          "execution_count": 13
        }
      ]
    },
    {
      "cell_type": "code",
      "source": [
        "#keys()\n",
        "list(marvel_dict.keys())"
      ],
      "metadata": {
        "colab": {
          "base_uri": "https://localhost:8080/"
        },
        "id": "717YFPK9sRTO",
        "outputId": "a3dde8ba-51f5-45e9-c4ca-e1057bdbda4c"
      },
      "execution_count": null,
      "outputs": [
        {
          "output_type": "execute_result",
          "data": {
            "text/plain": [
              "['name', 'place', 'weapon', 3]"
            ]
          },
          "metadata": {},
          "execution_count": 15
        }
      ]
    },
    {
      "cell_type": "code",
      "source": [
        "# values()\n",
        "list(marvel_dict.values())"
      ],
      "metadata": {
        "colab": {
          "base_uri": "https://localhost:8080/"
        },
        "id": "ZpVH-GGKsgQs",
        "outputId": "b121df36-f3db-4cef-b6e9-de62f3458176"
      },
      "execution_count": null,
      "outputs": [
        {
          "output_type": "execute_result",
          "data": {
            "text/plain": [
              "['thor', 'asgard', 'hammer', 'power']"
            ]
          },
          "metadata": {},
          "execution_count": 16
        }
      ]
    },
    {
      "cell_type": "code",
      "source": [
        "# items()\n",
        "list(marvel_dict.items())"
      ],
      "metadata": {
        "colab": {
          "base_uri": "https://localhost:8080/"
        },
        "id": "P01CJqu8sqB_",
        "outputId": "769b0f8c-a69c-4659-eedc-9290f0aecd93"
      },
      "execution_count": null,
      "outputs": [
        {
          "output_type": "execute_result",
          "data": {
            "text/plain": [
              "[('name', 'thor'), ('place', 'asgard'), ('weapon', 'hammer'), (3, 'power')]"
            ]
          },
          "metadata": {},
          "execution_count": 17
        }
      ]
    },
    {
      "cell_type": "code",
      "source": [
        "# get()-- takes the key as argument & return non if the key is not found in dictionary\n",
        "print(marvel_dict.get('place'))\n",
        "print(marvel_dict.get('random','not found'))"
      ],
      "metadata": {
        "colab": {
          "base_uri": "https://localhost:8080/"
        },
        "id": "CnC3q064tCDf",
        "outputId": "c041d536-86d3-4fdf-9844-633c1cb4ace0"
      },
      "execution_count": null,
      "outputs": [
        {
          "output_type": "stream",
          "name": "stdout",
          "text": [
            "asgard\n",
            "not found\n"
          ]
        }
      ]
    },
    {
      "cell_type": "code",
      "source": [
        "# update()--\n",
        "marvel_dict.update({'raj':'simran'})\n",
        "print(marvel_dict)"
      ],
      "metadata": {
        "colab": {
          "base_uri": "https://localhost:8080/"
        },
        "id": "dIeG9xRWuTA9",
        "outputId": "768d088a-9b46-45b2-8b21-75a0274a4d5b"
      },
      "execution_count": null,
      "outputs": [
        {
          "output_type": "stream",
          "name": "stdout",
          "text": [
            "{'name': 'thor', 'place': 'asgard', 'weapon': 'hammer', 3: 'power', 'raj': 'simran'}\n"
          ]
        }
      ]
    },
    {
      "cell_type": "code",
      "source": [
        "marvel_dict['name'] = marvel_dict['name']+' '+ 'rajesh'\n",
        "print(marvel_dict)"
      ],
      "metadata": {
        "colab": {
          "base_uri": "https://localhost:8080/"
        },
        "id": "UbRsOR4JvJ2b",
        "outputId": "377a9cf5-7ec8-4968-c509-7c563c717c6d"
      },
      "execution_count": null,
      "outputs": [
        {
          "output_type": "stream",
          "name": "stdout",
          "text": [
            "{'name': 'thor rajesh', 'place': 'asgard', 'weapon': 'hammer', 3: 'power', 'raj': 'simran'}\n"
          ]
        }
      ]
    },
    {
      "cell_type": "code",
      "source": [
        "# dict()-- also create dictionary object from sequence of items which are n pair\n",
        "country_city_list = [('india','new delhi'),('australia','canberra'),('england','london')]\n",
        "country_city_dict = dict(country_city_list)\n",
        "print(country_city_dict)"
      ],
      "metadata": {
        "colab": {
          "base_uri": "https://localhost:8080/"
        },
        "id": "MrvACRoLv-jE",
        "outputId": "f022aca6-93df-48e3-fa84-191848ee2f32"
      },
      "execution_count": null,
      "outputs": [
        {
          "output_type": "stream",
          "name": "stdout",
          "text": [
            "{'india': 'new delhi', 'australia': 'canberra', 'england': 'london'}\n"
          ]
        }
      ]
    },
    {
      "cell_type": "code",
      "source": [
        "# pop()- removes & retrun an element from dict hav ing key\n",
        "country_city_dict.pop('england')"
      ],
      "metadata": {
        "colab": {
          "base_uri": "https://localhost:8080/",
          "height": 35
        },
        "id": "JArEvhU6i86x",
        "outputId": "3ba2edf6-a367-45b5-8cb0-5e843cd68bee"
      },
      "execution_count": null,
      "outputs": [
        {
          "output_type": "execute_result",
          "data": {
            "text/plain": [
              "'london'"
            ],
            "application/vnd.google.colaboratory.intrinsic+json": {
              "type": "string"
            }
          },
          "metadata": {},
          "execution_count": 29
        }
      ]
    },
    {
      "cell_type": "code",
      "source": [
        "country_city_dict"
      ],
      "metadata": {
        "colab": {
          "base_uri": "https://localhost:8080/"
        },
        "id": "9bd-Q-q2jyMM",
        "outputId": "0ee1c76e-9912-4483-846f-e63eedcc4863"
      },
      "execution_count": null,
      "outputs": [
        {
          "output_type": "execute_result",
          "data": {
            "text/plain": [
              "{'india': 'new delhi', 'australia': 'canberra'}"
            ]
          },
          "metadata": {},
          "execution_count": 32
        }
      ]
    },
    {
      "cell_type": "code",
      "source": [
        "# zip\n",
        "name = ['manjeet','nikhil','shambhan']\n",
        "marks = [40, 50, 60]\n",
        "mapped = zip(name,marks)\n",
        "print(mapped)\n",
        "print(dict(mapped))"
      ],
      "metadata": {
        "colab": {
          "base_uri": "https://localhost:8080/"
        },
        "id": "yTlJVRE1j_hy",
        "outputId": "213b20ef-f022-40c7-b734-634fe28cc35e"
      },
      "execution_count": null,
      "outputs": [
        {
          "output_type": "stream",
          "name": "stdout",
          "text": [
            "<zip object at 0x7ffa1ee37dc0>\n",
            "{'manjeet': 40, 'nikhil': 50, 'shambhan': 60}\n"
          ]
        }
      ]
    },
    {
      "cell_type": "markdown",
      "source": [
        "**Statement, Indentation and Condition--**"
      ],
      "metadata": {
        "id": "kS-v5sr9xRfQ"
      }
    },
    {
      "cell_type": "markdown",
      "source": [
        "*Conditional Statement--*\n",
        "\n"
      ],
      "metadata": {
        "id": "d7_sB2I6xct2"
      }
    },
    {
      "cell_type": "markdown",
      "source": [
        "**if, elif,else--**"
      ],
      "metadata": {
        "id": "1fL6RGaulo_d"
      }
    },
    {
      "cell_type": "code",
      "source": [
        "'''(if case 1:\n",
        "  perform action 1\n",
        "elif case 2:\n",
        "  perform action 2\n",
        "else:\n",
        "  perform action 3 )'''\n",
        "\n",
        "city = 'pune'\n",
        "if city == 'delhi':\n",
        "  print('indian capital')\n",
        "elif city == 'mumbai':\n",
        "  print('financial capital')\n",
        "else:\n",
        "  print('where are you')"
      ],
      "metadata": {
        "colab": {
          "base_uri": "https://localhost:8080/"
        },
        "id": "IfoamTXjxGtv",
        "outputId": "0234f9a9-b8ed-494a-90c4-c1bdaaa0390b"
      },
      "execution_count": null,
      "outputs": [
        {
          "output_type": "stream",
          "name": "stdout",
          "text": [
            "where are you\n"
          ]
        }
      ]
    },
    {
      "cell_type": "markdown",
      "source": [
        "**Truthy & False--**"
      ],
      "metadata": {
        "id": "_O9TrCxjlyXK"
      }
    },
    {
      "cell_type": "markdown",
      "source": [
        "A 'Truthy' value will satisfy the check performed by if or while statement. We use 'Truthy' & 'Falsy' to differentiate from the boolean values Truth & False.\n",
        "\n",
        "All the values are considered 'Truthy' except for the following which is false\n",
        "\n",
        "\"  None--False--0--0.0--an empty set-[ ], { }, ( ),' '  \""
      ],
      "metadata": {
        "id": "lz74X276mIfj"
      }
    },
    {
      "cell_type": "code",
      "source": [
        "if False:\n",
        "  print('what do you want')\n",
        "else:\n",
        "  print('i have nothing to say')"
      ],
      "metadata": {
        "colab": {
          "base_uri": "https://localhost:8080/"
        },
        "id": "kPuaXF4JnyKj",
        "outputId": "b92b54eb-34b9-4f52-f483-db4487116165"
      },
      "execution_count": null,
      "outputs": [
        {
          "output_type": "stream",
          "name": "stdout",
          "text": [
            "i have nothing to say\n"
          ]
        }
      ]
    },
    {
      "cell_type": "markdown",
      "source": [
        "**Loops And Iterations-**\n"
      ],
      "metadata": {
        "id": "7_cyZtE6p0Ym"
      }
    },
    {
      "cell_type": "markdown",
      "source": [
        "for loop:-"
      ],
      "metadata": {
        "id": "bZeGEg-AqJfs"
      }
    },
    {
      "cell_type": "code",
      "source": [
        "''' for item in object:\n",
        "      statement to do stuff '''\n",
        "\n",
        "got_house = ['stark','tony','rajesh']\n",
        "for i in got_house:\n",
        "  print(f\"house {i}\")\n"
      ],
      "metadata": {
        "colab": {
          "base_uri": "https://localhost:8080/"
        },
        "id": "MTqushzLqVKj",
        "outputId": "089335c0-7d39-4f1c-b35b-f2dbf30fe333"
      },
      "execution_count": null,
      "outputs": [
        {
          "output_type": "stream",
          "name": "stdout",
          "text": [
            "house stark\n",
            "house tony\n",
            "house rajesh\n"
          ]
        }
      ]
    },
    {
      "cell_type": "markdown",
      "source": [
        "**enumerate() function--** requires two iterators index and element"
      ],
      "metadata": {
        "id": "gP9U9PP1t0yc"
      }
    },
    {
      "cell_type": "code",
      "source": [
        "for number, house in enumerate(got_house):\n",
        "  print(number+1,house)\n"
      ],
      "metadata": {
        "colab": {
          "base_uri": "https://localhost:8080/"
        },
        "id": "HcLs6ORbtzln",
        "outputId": "185d86ce-894c-4593-8697-c58243ddf320"
      },
      "execution_count": null,
      "outputs": [
        {
          "output_type": "stream",
          "name": "stdout",
          "text": [
            "1 stark\n",
            "2 tony\n",
            "3 rajesh\n"
          ]
        }
      ]
    },
    {
      "cell_type": "markdown",
      "source": [
        "**range()--** Takes 3 arguments: start, stop, step"
      ],
      "metadata": {
        "id": "KOBEvpbLwJkV"
      }
    },
    {
      "cell_type": "code",
      "source": [
        "list(range(2,30,2))"
      ],
      "metadata": {
        "colab": {
          "base_uri": "https://localhost:8080/"
        },
        "id": "UzjqvCRjwara",
        "outputId": "7cd307fe-4eb3-433e-f85e-31d600fa5050"
      },
      "execution_count": null,
      "outputs": [
        {
          "output_type": "execute_result",
          "data": {
            "text/plain": [
              "[2, 4, 6, 8, 10, 12, 14, 16, 18, 20, 22, 24, 26, 28]"
            ]
          },
          "metadata": {},
          "execution_count": 9
        }
      ]
    },
    {
      "cell_type": "markdown",
      "source": [
        "**split()--** if we want to iterate each word in sentence\n"
      ],
      "metadata": {
        "id": "1_z3dhL9wsoA"
      }
    },
    {
      "cell_type": "code",
      "source": [
        "heisenburg = 'you are not good enough for me'\n",
        "print(heisenburg.split())"
      ],
      "metadata": {
        "colab": {
          "base_uri": "https://localhost:8080/"
        },
        "id": "hFidSyN_w8C3",
        "outputId": "e8e85b07-f906-4078-cc59-ceb4c2db0462"
      },
      "execution_count": null,
      "outputs": [
        {
          "output_type": "stream",
          "name": "stdout",
          "text": [
            "['you', 'are', 'not', 'good', 'enough', 'for', 'me']\n"
          ]
        }
      ]
    },
    {
      "cell_type": "markdown",
      "source": [
        "**Tuple unpacking--**"
      ],
      "metadata": {
        "id": "9SRc71mqxU9W"
      }
    },
    {
      "cell_type": "code",
      "source": [
        "country_city = [('india','new delhi'),('aus','canbera')]\n",
        "for country, city in country_city:\n",
        "  print('the capital of country',country,'is',city)"
      ],
      "metadata": {
        "colab": {
          "base_uri": "https://localhost:8080/"
        },
        "id": "lONWd98Pxapr",
        "outputId": "7b8a9eb7-81fd-45f7-fa4b-f90359e04ba6"
      },
      "execution_count": null,
      "outputs": [
        {
          "output_type": "stream",
          "name": "stdout",
          "text": [
            "the capital of country india is new delhi\n",
            "the capital of country aus is canbera\n"
          ]
        }
      ]
    },
    {
      "cell_type": "markdown",
      "source": [
        "**While loop--** Statement will repeatedely  execute a single statement or a group of statement as long as condition is true.\n",
        "\n",
        "Also called \"infinite loop\""
      ],
      "metadata": {
        "id": "RYtz5Ucrx8g5"
      }
    },
    {
      "cell_type": "code",
      "source": [
        "x = 0\n",
        "while x<2:\n",
        "  print('x is currently:',x)\n",
        "  x +=1\n",
        "else:\n",
        "  print('\\n')\n",
        "  print('all done')"
      ],
      "metadata": {
        "colab": {
          "base_uri": "https://localhost:8080/"
        },
        "id": "lmQpFplyyZdM",
        "outputId": "9e0e9780-acfa-4a91-a188-a190360777a2"
      },
      "execution_count": null,
      "outputs": [
        {
          "output_type": "stream",
          "name": "stdout",
          "text": [
            "x is currently: 0\n",
            "x is currently: 1\n",
            "\n",
            "\n",
            "all done\n"
          ]
        }
      ]
    },
    {
      "cell_type": "markdown",
      "source": [
        "**break,continue and pass--**"
      ],
      "metadata": {
        "id": "fJrZcVRwlY-M"
      }
    },
    {
      "cell_type": "code",
      "source": [
        "''' while test:\n",
        "      code statement\n",
        "      if test:\n",
        "        break\n",
        "      if test:\n",
        "        continue\n",
        "    else:"
      ],
      "metadata": {
        "id": "Yi7GxHtgk9Gs"
      },
      "execution_count": null,
      "outputs": []
    },
    {
      "cell_type": "code",
      "source": [
        "x=0\n",
        "while x<10:\n",
        "  print('x is currently:',x)\n",
        "  x +=1\n",
        "  if x==3:\n",
        "    print('x==3')\n",
        "    break\n",
        "  else:\n",
        "    print('continue')"
      ],
      "metadata": {
        "colab": {
          "base_uri": "https://localhost:8080/"
        },
        "id": "qqCpN8gvno2I",
        "outputId": "36d0e2dc-4c72-4988-9c63-ba1c8e5d9527"
      },
      "execution_count": null,
      "outputs": [
        {
          "output_type": "stream",
          "name": "stdout",
          "text": [
            "x is currently: 0\n",
            "continue\n",
            "x is currently: 1\n",
            "continue\n",
            "x is currently: 2\n",
            "x==3\n"
          ]
        }
      ]
    },
    {
      "cell_type": "code",
      "source": [
        "x=['ab','cd']\n",
        "for i in x:\n",
        "  i= i.upper()\n",
        "  print(i)"
      ],
      "metadata": {
        "colab": {
          "base_uri": "https://localhost:8080/"
        },
        "id": "J0P0IZbdoNBq",
        "outputId": "4b190b5b-1f4b-457a-b4ff-94e60a200964"
      },
      "execution_count": null,
      "outputs": [
        {
          "output_type": "stream",
          "name": "stdout",
          "text": [
            "AB\n",
            "CD\n"
          ]
        }
      ]
    },
    {
      "cell_type": "markdown",
      "source": [
        "**List Comprehension**"
      ],
      "metadata": {
        "id": "rekHVvymtG5E"
      }
    },
    {
      "cell_type": "code",
      "source": [
        "'''expression of comprehension'''\n",
        "'''number**2(output) for number(variable) in list of number(input sequence) if number%2==0(optional predicate)'''"
      ],
      "metadata": {
        "colab": {
          "base_uri": "https://localhost:8080/",
          "height": 35
        },
        "id": "q2R9USaEs36_",
        "outputId": "be467293-247b-4f1a-bc49-f13c51f8c665"
      },
      "execution_count": null,
      "outputs": [
        {
          "output_type": "execute_result",
          "data": {
            "text/plain": [
              "'number**2(output) for number(variable) in list of number(input sequence) if number%2==0(optional predicate)'"
            ],
            "application/vnd.google.colaboratory.intrinsic+json": {
              "type": "string"
            }
          },
          "metadata": {},
          "execution_count": 3
        }
      ]
    },
    {
      "cell_type": "code",
      "source": [
        "# write first letter of word in another list\n",
        "\n",
        "words = 'what can i do for you'\n",
        "first_letter =[ ]\n",
        "words = words.split()\n",
        "for word in words:\n",
        "  \n",
        "  first_letter.append(word[0])\n",
        "print(first_letter)"
      ],
      "metadata": {
        "colab": {
          "base_uri": "https://localhost:8080/"
        },
        "id": "hqOgUJtet-bK",
        "outputId": "3b7c4a73-d03e-4e87-d5f8-7ba7a9e6d4f7"
      },
      "execution_count": null,
      "outputs": [
        {
          "output_type": "stream",
          "name": "stdout",
          "text": [
            "['w', 'c', 'i', 'd', 'f', 'y']\n"
          ]
        }
      ]
    },
    {
      "cell_type": "code",
      "source": [
        "# by comprehension\n",
        "first_letter = [word[0] for word in words]\n",
        "print(first_letter)"
      ],
      "metadata": {
        "colab": {
          "base_uri": "https://localhost:8080/"
        },
        "id": "6XWjHfF0vzvL",
        "outputId": "05b0e1f5-9639-4b0b-f7a3-ca4888918bbc"
      },
      "execution_count": null,
      "outputs": [
        {
          "output_type": "stream",
          "name": "stdout",
          "text": [
            "['w', 'c', 'i', 'd', 'f', 'y']\n"
          ]
        }
      ]
    },
    {
      "cell_type": "code",
      "source": [
        "# set comprehension\n",
        "first_letter = {word[0] for word in words}\n",
        "print(first_letter)"
      ],
      "metadata": {
        "colab": {
          "base_uri": "https://localhost:8080/"
        },
        "id": "U3eY6krlwGjI",
        "outputId": "eea3f6b5-67a7-4a79-ec36-c8feb66f6bdc"
      },
      "execution_count": null,
      "outputs": [
        {
          "output_type": "stream",
          "name": "stdout",
          "text": [
            "{'i', 'y', 'w', 'c', 'f', 'd'}\n"
          ]
        }
      ]
    },
    {
      "cell_type": "markdown",
      "source": [
        "**flipped**"
      ],
      "metadata": {
        "id": "90vEd65lwhNV"
      }
    },
    {
      "cell_type": "code",
      "source": [
        "# Swap the key and values for dictionary\n",
        "country_city_dict= {'ind':'nd','aus':'can','us':'wdc','eng':'lon'}\n",
        "\n",
        "flipped = {city:country for country,city in country_city_dict.items()}\n",
        "print(flipped)"
      ],
      "metadata": {
        "colab": {
          "base_uri": "https://localhost:8080/"
        },
        "id": "Bg90zL-ZwkU0",
        "outputId": "01788561-3ffa-4f97-edf8-be1aa660a66f"
      },
      "execution_count": null,
      "outputs": [
        {
          "output_type": "stream",
          "name": "stdout",
          "text": [
            "{'nd': 'ind', 'can': 'aus', 'wdc': 'us', 'lon': 'eng'}\n"
          ]
        }
      ]
    },
    {
      "cell_type": "markdown",
      "source": [
        "**Function and Methods**"
      ],
      "metadata": {
        "id": "fQX3sUYYlpCI"
      }
    },
    {
      "cell_type": "code",
      "source": [
        "# syntax\n",
        "'''def example_function(arg1,arg2):\n",
        "       '''this is where function doc string goes'''\n",
        "      #do sum stuff\n",
        "      #return'''"
      ],
      "metadata": {
        "id": "e9OxMAEQluVU"
      },
      "execution_count": null,
      "outputs": []
    },
    {
      "cell_type": "code",
      "source": [
        "# write a function which returns the factorial of a number\n",
        "\n",
        "def factorial(n):\n",
        "  '''\n",
        "  function for calculating factorial of number\n",
        "  '''\n",
        "  if n<0:\n",
        "    print('factorial is not defined')\n",
        "  elif n>0:\n",
        "   result = 1\n",
        "  for i in range(1,n+1):\n",
        "     result = result*i\n",
        "  else:\n",
        "    print('the factorial of o is 1')\n",
        "  return result\n",
        "\n",
        "factorial(5)"
      ],
      "metadata": {
        "colab": {
          "base_uri": "https://localhost:8080/"
        },
        "id": "6wTvt7JamZFb",
        "outputId": "d8f408d1-2082-4e43-cc0b-788111499473"
      },
      "execution_count": null,
      "outputs": [
        {
          "output_type": "stream",
          "name": "stdout",
          "text": [
            "the factorial of o is 1\n"
          ]
        },
        {
          "output_type": "execute_result",
          "data": {
            "text/plain": [
              "120"
            ]
          },
          "metadata": {},
          "execution_count": 17
        }
      ]
    },
    {
      "cell_type": "code",
      "source": [
        "# above problem by list comprehension\n",
        "list_of_num = [3,5,6,7,12,4]\n",
        "factorial_list = [factorial(n) for n in list_of_num]\n",
        "print(factorial_list)"
      ],
      "metadata": {
        "colab": {
          "base_uri": "https://localhost:8080/"
        },
        "id": "1cbdFd4Dn5Pn",
        "outputId": "b6e2464c-9dbe-4e78-ddb6-ab124c1f79b0"
      },
      "execution_count": null,
      "outputs": [
        {
          "output_type": "stream",
          "name": "stdout",
          "text": [
            "the factorial of o is 1\n",
            "the factorial of o is 1\n",
            "the factorial of o is 1\n",
            "the factorial of o is 1\n",
            "the factorial of o is 1\n",
            "the factorial of o is 1\n",
            "[6, 120, 720, 5040, 479001600, 24]\n"
          ]
        }
      ]
    },
    {
      "cell_type": "code",
      "source": [
        "# Write a function which add an element to a list. This function takes the list as an argument and the element to be added\n",
        "\n",
        "height = [172,191,187,154]\n",
        "\n",
        "def list_append(my_list,elem):\n",
        "  '''\n",
        "  This function append an element to the list\n",
        "  '''\n",
        "  new_list = my_list + [elem]\n",
        "  return new_list\n",
        "\n",
        "print(height)\n",
        "print(list_append(height,187))\n",
        "print(height)\n",
        "\n",
        "\n",
        "# Note- It will not change my original list where as if we use list.append(187) the it will changed my originnal list"
      ],
      "metadata": {
        "colab": {
          "base_uri": "https://localhost:8080/"
        },
        "id": "59rg61qoU-Z0",
        "outputId": "8566d153-6097-442c-e793-cf3ad3ab36da"
      },
      "execution_count": 4,
      "outputs": [
        {
          "output_type": "stream",
          "name": "stdout",
          "text": [
            "[172, 191, 187, 154]\n",
            "[172, 191, 187, 154, 187]\n",
            "[172, 191, 187, 154]\n"
          ]
        }
      ]
    },
    {
      "cell_type": "markdown",
      "source": [
        "**Production Grrade Programming:-**\n",
        "\n",
        "Class- Users defined objects are created using class keywords.\n",
        "\n",
        "Attributes- Is a characterstics of an objects\n",
        "\n",
        "Method- is an operation we can perform with object syntax for creating attributes\n"
      ],
      "metadata": {
        "id": "_Hg2PP77Wxf3"
      }
    },
    {
      "cell_type": "code",
      "source": [
        "# Creating a class circle\n",
        "\n",
        "class Circle():\n",
        " def __init__(self,radius=1):\n",
        "  self.radius = radius\n",
        "  self.area = 3.14*radius*radius\n",
        "\n",
        " def Circumference(self):\n",
        "  return 2*3.14*self.radius\n",
        "\n",
        "C = Circle()\n",
        "print(C.area)\n",
        "print(C.Circumference)\n"
      ],
      "metadata": {
        "colab": {
          "base_uri": "https://localhost:8080/"
        },
        "id": "sWwt6XoZWmt8",
        "outputId": "c38d365c-18e8-4802-b42b-bd0b2cb6e832"
      },
      "execution_count": 13,
      "outputs": [
        {
          "output_type": "stream",
          "name": "stdout",
          "text": [
            "3.14\n",
            "<bound method Circle.Circumference of <__main__.Circle object at 0x7f7097aca7d0>>\n"
          ]
        }
      ]
    },
    {
      "cell_type": "markdown",
      "source": [
        "**Polymorphism:-**Way in which different object classes can share the same method name and those method can be called from same place even thorugh variety of different object might be posses in."
      ],
      "metadata": {
        "id": "-Tyw1IybSSQY"
      }
    },
    {
      "cell_type": "code",
      "source": [
        "class housestark:\n",
        "  def __init__(self,sigil):\n",
        "    self.sigil = sigil\n",
        "\n",
        "  def motto(self):\n",
        "    return\"House stark with sigil\"+' ' +self.sigil+' '+ \"has the motto 'winter is coming'\"\n",
        "\n",
        "class houselanister:\n",
        "  def __init__(self,sigil):\n",
        "    self.sigil = sigil\n",
        "  def motto(self):\n",
        "    return \"hpuse lanister with sigil\"+' ' + self.sigil+ \"has the motto'hear me roar\"\n",
        "\n",
        "arya = housestark('direwolf')\n",
        "tyrion = houselanister('golden lion')\n",
        "\n",
        "print(arya.motto())"
      ],
      "metadata": {
        "colab": {
          "base_uri": "https://localhost:8080/"
        },
        "id": "sgPkfdwPUlfK",
        "outputId": "ec0c877d-4039-4c9a-d027-1ec64cb70fd4"
      },
      "execution_count": 20,
      "outputs": [
        {
          "output_type": "stream",
          "name": "stdout",
          "text": [
            "House stark with sigil direwolf has the motto 'winter is coming'\n"
          ]
        }
      ]
    },
    {
      "cell_type": "markdown",
      "source": [
        "**Error Ans Exception Handling-**"
      ],
      "metadata": {
        "id": "T7grVMFgWWEQ"
      }
    },
    {
      "cell_type": "code",
      "source": [
        "# try and Except--mainly used to handling errors\n",
        "\n",
        "try:\n",
        "  print('good to go')\n",
        "  print(jnn)\n",
        "except:\n",
        "  print('oops!')\n",
        "\n"
      ],
      "metadata": {
        "colab": {
          "base_uri": "https://localhost:8080/"
        },
        "id": "D9nFMWDVWUs0",
        "outputId": "96c6a0d7-81e4-4c04-c654-0f40e3185c5b"
      },
      "execution_count": 22,
      "outputs": [
        {
          "output_type": "stream",
          "name": "stdout",
          "text": [
            "good to go\n",
            "oops!\n"
          ]
        }
      ]
    },
    {
      "cell_type": "markdown",
      "source": [
        "**Finally**-If we want to run our code after exception occured. this is where finally comes."
      ],
      "metadata": {
        "id": "wv0CiQhAYfqu"
      }
    },
    {
      "cell_type": "code",
      "source": [
        "a =1\n",
        "b = 0.2\n",
        "\n",
        "try:\n",
        "  print(hjbjbnj,type(hjbjbnj))\n",
        "except:\n",
        "  print(b,type(b))\n",
        "finally:\n",
        "  print('type printed')"
      ],
      "metadata": {
        "colab": {
          "base_uri": "https://localhost:8080/"
        },
        "id": "OnGIfEBeYcgq",
        "outputId": "6c415e21-0351-46cd-e3e9-4e63aae5e1a1"
      },
      "execution_count": 25,
      "outputs": [
        {
          "output_type": "stream",
          "name": "stdout",
          "text": [
            "0.2 <class 'float'>\n",
            "type printed\n"
          ]
        }
      ]
    },
    {
      "cell_type": "markdown",
      "source": [
        "**NumPy Operations:-**"
      ],
      "metadata": {
        "id": "F2NAA5SRZjoC"
      }
    },
    {
      "cell_type": "markdown",
      "source": [
        "Different ways of creating ndarray:-"
      ],
      "metadata": {
        "id": "F-n8Yw8DaIej"
      }
    },
    {
      "cell_type": "code",
      "source": [
        "import numpy as np\n",
        "# Uninitialized\n",
        "uninitialised_array = np.empty([2,3],dtype=int)\n",
        "print(uninitialised_array)"
      ],
      "metadata": {
        "colab": {
          "base_uri": "https://localhost:8080/"
        },
        "id": "DCxS_a29Z64d",
        "outputId": "6808d6ae-094a-4d65-ff56-ecbfbd8fe65b"
      },
      "execution_count": 26,
      "outputs": [
        {
          "output_type": "stream",
          "name": "stdout",
          "text": [
            "[[58607280        0        0]\n",
            " [       0        0        0]]\n"
          ]
        }
      ]
    },
    {
      "cell_type": "code",
      "source": [
        "# Initialized with zero\n",
        "zero_array = np.zeros((3,3))\n",
        "print(zero_array)\n",
        "\n",
        "# Another array\n",
        "another_zero_array = np.zeros((4,3))\n",
        "print(another_zero_array)"
      ],
      "metadata": {
        "colab": {
          "base_uri": "https://localhost:8080/"
        },
        "id": "FV4l_GAYa1Rg",
        "outputId": "30366b03-2666-41e6-c1e7-e31297f0f4e0"
      },
      "execution_count": 29,
      "outputs": [
        {
          "output_type": "stream",
          "name": "stdout",
          "text": [
            "[[0. 0. 0.]\n",
            " [0. 0. 0.]\n",
            " [0. 0. 0.]]\n",
            "[[0. 0. 0.]\n",
            " [0. 0. 0.]\n",
            " [0. 0. 0.]\n",
            " [0. 0. 0.]]\n"
          ]
        }
      ]
    },
    {
      "cell_type": "code",
      "source": [
        "# Initialized with ones\n",
        "ones_array = np.ones((2,3),dtype=int)\n",
        "print(ones_array)"
      ],
      "metadata": {
        "colab": {
          "base_uri": "https://localhost:8080/"
        },
        "id": "oKzb9TAbbf0_",
        "outputId": "9aa96aa6-14fd-48aa-e547-0871757cb7c8"
      },
      "execution_count": 31,
      "outputs": [
        {
          "output_type": "stream",
          "name": "stdout",
          "text": [
            "[[1 1 1]\n",
            " [1 1 1]]\n"
          ]
        }
      ]
    },
    {
      "cell_type": "code",
      "source": [
        "# Array from numerical ranges\n",
        "array_with_ranges = np.arange(5)\n",
        "print(array_with_ranges)\n",
        "print(np.arange(10,20,2))"
      ],
      "metadata": {
        "colab": {
          "base_uri": "https://localhost:8080/"
        },
        "id": "NI0LTqfUb1Pq",
        "outputId": "e5eaf385-2178-4060-e9b8-7e5859a27b5d"
      },
      "execution_count": 33,
      "outputs": [
        {
          "output_type": "stream",
          "name": "stdout",
          "text": [
            "[0 1 2 3 4]\n",
            "[10 12 14 16 18]\n"
          ]
        }
      ]
    },
    {
      "cell_type": "code",
      "source": [
        "# to get the number of evenly spaced values between intervals\n",
        "# parameter for the function- np.linspace(start,stop,num,endpoint,retstep,dtype)\n",
        "\n",
        "linearly_space_value = np.linspace(10,20,9,endpoint=False,retstep=True)\n",
        "linearly_space_value"
      ],
      "metadata": {
        "colab": {
          "base_uri": "https://localhost:8080/"
        },
        "id": "1PIvqFmRcRzp",
        "outputId": "2899ca32-e524-46db-9cb1-3f37b59b71f8"
      },
      "execution_count": 36,
      "outputs": [
        {
          "output_type": "execute_result",
          "data": {
            "text/plain": [
              "(array([10.        , 11.11111111, 12.22222222, 13.33333333, 14.44444444,\n",
              "        15.55555556, 16.66666667, 17.77777778, 18.88888889]),\n",
              " 1.1111111111111112)"
            ]
          },
          "metadata": {},
          "execution_count": 36
        }
      ]
    },
    {
      "cell_type": "code",
      "source": [
        "# array from randon number\n",
        "random_array = np.random.random((4,3))\n",
        "random_array"
      ],
      "metadata": {
        "colab": {
          "base_uri": "https://localhost:8080/"
        },
        "id": "6A-DfAeqQHTL",
        "outputId": "a1b0607e-95a8-4a8f-8ef2-5ee7c631e9f5"
      },
      "execution_count": 38,
      "outputs": [
        {
          "output_type": "execute_result",
          "data": {
            "text/plain": [
              "array([[0.57966095, 0.36847061, 0.09514303],\n",
              "       [0.19110444, 0.01833816, 0.38731167],\n",
              "       [0.0126919 , 0.42472766, 0.211028  ],\n",
              "       [0.0054695 , 0.38291197, 0.9125157 ]])"
            ]
          },
          "metadata": {},
          "execution_count": 38
        }
      ]
    },
    {
      "cell_type": "code",
      "source": [
        "# get array with random input integral of desired shape\n",
        "# np.full(start,end,size)\n",
        "random_i_arr = np.random.randint(0,5,size=(2,3,4))\n",
        "random_i_arr"
      ],
      "metadata": {
        "colab": {
          "base_uri": "https://localhost:8080/"
        },
        "id": "B5TKE9M-QaOn",
        "outputId": "2f1ad560-8a3a-41d1-e2bc-ed7e6dc1e78b"
      },
      "execution_count": 39,
      "outputs": [
        {
          "output_type": "execute_result",
          "data": {
            "text/plain": [
              "array([[[2, 0, 1, 0],\n",
              "        [0, 1, 2, 4],\n",
              "        [2, 0, 0, 3]],\n",
              "\n",
              "       [[1, 1, 1, 2],\n",
              "        [3, 1, 0, 0],\n",
              "        [2, 0, 1, 3]]])"
            ]
          },
          "metadata": {},
          "execution_count": 39
        }
      ]
    },
    {
      "cell_type": "code",
      "source": [
        "# array with specified number\n",
        "# to get array with specified input element of desired shape\n",
        "# np.full(shape,value)\n",
        "a = np.full((3,3),30)\n",
        "a"
      ],
      "metadata": {
        "colab": {
          "base_uri": "https://localhost:8080/"
        },
        "id": "PmE0pAwFRLt-",
        "outputId": "914a2689-d319-44e3-f356-ca445f9e619f"
      },
      "execution_count": 41,
      "outputs": [
        {
          "output_type": "execute_result",
          "data": {
            "text/plain": [
              "array([[30, 30, 30],\n",
              "       [30, 30, 30],\n",
              "       [30, 30, 30]])"
            ]
          },
          "metadata": {},
          "execution_count": 41
        }
      ]
    },
    {
      "cell_type": "code",
      "source": [
        "# to get identity matrix\n",
        "np.identity(4)"
      ],
      "metadata": {
        "colab": {
          "base_uri": "https://localhost:8080/"
        },
        "id": "K0bgPijIRqdB",
        "outputId": "6ee8b0b1-32e6-497f-de7e-0cbeb3e6b25e"
      },
      "execution_count": 42,
      "outputs": [
        {
          "output_type": "execute_result",
          "data": {
            "text/plain": [
              "array([[1., 0., 0., 0.],\n",
              "       [0., 1., 0., 0.],\n",
              "       [0., 0., 1., 0.],\n",
              "       [0., 0., 0., 1.]])"
            ]
          },
          "metadata": {},
          "execution_count": 42
        }
      ]
    },
    {
      "cell_type": "markdown",
      "source": [
        "**Creating ndarray with existing data**"
      ],
      "metadata": {
        "id": "exM-8u7_R7qh"
      }
    },
    {
      "cell_type": "code",
      "source": [
        "# List to ndarray\n",
        "list = [1,2,3]\n",
        "np.asarray(list)\n"
      ],
      "metadata": {
        "colab": {
          "base_uri": "https://localhost:8080/"
        },
        "id": "91nGOIAOSDrW",
        "outputId": "7193f511-df1d-4f9d-fa57-623859275762"
      },
      "execution_count": 43,
      "outputs": [
        {
          "output_type": "execute_result",
          "data": {
            "text/plain": [
              "array([1, 2, 3])"
            ]
          },
          "metadata": {},
          "execution_count": 43
        }
      ]
    },
    {
      "cell_type": "code",
      "source": [
        "# tuple to ndarray\n",
        "tuple = (1,2,3)\n",
        "np.asarray(tuple)"
      ],
      "metadata": {
        "colab": {
          "base_uri": "https://localhost:8080/"
        },
        "id": "MTBvpI9-STEv",
        "outputId": "0def0b2b-b08d-4010-d5a5-6306163239aa"
      },
      "execution_count": 44,
      "outputs": [
        {
          "output_type": "execute_result",
          "data": {
            "text/plain": [
              "array([1, 2, 3])"
            ]
          },
          "metadata": {},
          "execution_count": 44
        }
      ]
    },
    {
      "cell_type": "code",
      "source": [
        "# one dimentional array of some PN\n",
        "print(np.array([2,3,5,7]))\n",
        "print('-------------------')\n",
        "# 2-D array\n",
        "print(np.array([[1,2],[3,4]]))\n",
        "print('------------------')\n",
        "# 3-D array\n",
        "print(np.array([[[1,2],[3,4]],[[5,6],[7,8]]]))"
      ],
      "metadata": {
        "colab": {
          "base_uri": "https://localhost:8080/"
        },
        "id": "SoNrt3QQVbs-",
        "outputId": "59da3eb6-3aa6-4afd-fe23-5d8383770827"
      },
      "execution_count": 47,
      "outputs": [
        {
          "output_type": "stream",
          "name": "stdout",
          "text": [
            "[2 3 5 7]\n",
            "-------------------\n",
            "[[1 2]\n",
            " [3 4]]\n",
            "------------------\n",
            "[[[1 2]\n",
            "  [3 4]]\n",
            "\n",
            " [[5 6]\n",
            "  [7 8]]]\n"
          ]
        }
      ]
    },
    {
      "cell_type": "markdown",
      "source": [
        "**Array Inspection**\n",
        "1. ndarray.shape-gives shape\n",
        "2. ndarray.ndim- returns no. of array dimentions\n",
        "3. ndarray.size- returns total no. of elements in array\n",
        "4. ndarray.dtype- returns data type of an array\n",
        "5. ndarray.size-"
      ],
      "metadata": {
        "id": "-nhHVZrVWbWW"
      }
    },
    {
      "cell_type": "code",
      "source": [
        "# ndarray.shape\n",
        "alma = np.array([[[1,2,3],[2,3,5]],[[4,5,5],[6,7,6]]])\n",
        "print(alma.shape)\n",
        "print(alma.ndim)\n",
        "print(alma.size)\n",
        "print(alma.dtype)\n"
      ],
      "metadata": {
        "colab": {
          "base_uri": "https://localhost:8080/"
        },
        "id": "IrO29n88Ws8K",
        "outputId": "d06a6d3f-2ac3-4b7c-ae4c-23c1ce382d4a"
      },
      "execution_count": 52,
      "outputs": [
        {
          "output_type": "stream",
          "name": "stdout",
          "text": [
            "(2, 2, 3)\n",
            "3\n",
            "12\n",
            "int64\n"
          ]
        }
      ]
    },
    {
      "cell_type": "code",
      "source": [
        "# np.astype() --Change data type of an array to float\n",
        "\n",
        "aravali = np.array([2,3,4])\n",
        "print(aravali.dtype)\n",
        "aravali = aravali.astype('float64')\n",
        "print(aravali.dtype)"
      ],
      "metadata": {
        "colab": {
          "base_uri": "https://localhost:8080/"
        },
        "id": "zrucQSEHZBds",
        "outputId": "33b64641-49d3-4315-e18b-454e3af781a4"
      },
      "execution_count": 54,
      "outputs": [
        {
          "output_type": "stream",
          "name": "stdout",
          "text": [
            "int64\n",
            "float64\n"
          ]
        }
      ]
    },
    {
      "cell_type": "code",
      "source": [
        "# np.insert--To insert item to array\n",
        "\n",
        "a = np.random.randint(10,20,(2,3,3))\n",
        "print(a)\n",
        "print('-------------------------------')\n",
        "print(np.insert(a,0,100,0))\n",
        "print('-------------------------------')\n",
        "print(np.insert(a,0,100,2))\n",
        "print('-------------------------------')\n",
        "print(np.insert(a,0,100,1))"
      ],
      "metadata": {
        "colab": {
          "base_uri": "https://localhost:8080/"
        },
        "id": "b57Ipv50afb1",
        "outputId": "f85a6bf4-2ca7-4fb3-8fc3-1c67f3c91260"
      },
      "execution_count": 55,
      "outputs": [
        {
          "output_type": "stream",
          "name": "stdout",
          "text": [
            "[[[15 11 16]\n",
            "  [12 12 13]\n",
            "  [10 15 12]]\n",
            "\n",
            " [[17 10 19]\n",
            "  [10 19 10]\n",
            "  [10 13 17]]]\n",
            "-------------------------------\n",
            "[[[100 100 100]\n",
            "  [100 100 100]\n",
            "  [100 100 100]]\n",
            "\n",
            " [[ 15  11  16]\n",
            "  [ 12  12  13]\n",
            "  [ 10  15  12]]\n",
            "\n",
            " [[ 17  10  19]\n",
            "  [ 10  19  10]\n",
            "  [ 10  13  17]]]\n",
            "-------------------------------\n",
            "[[[100  15  11  16]\n",
            "  [100  12  12  13]\n",
            "  [100  10  15  12]]\n",
            "\n",
            " [[100  17  10  19]\n",
            "  [100  10  19  10]\n",
            "  [100  10  13  17]]]\n",
            "-------------------------------\n",
            "[[[100 100 100]\n",
            "  [ 15  11  16]\n",
            "  [ 12  12  13]\n",
            "  [ 10  15  12]]\n",
            "\n",
            " [[100 100 100]\n",
            "  [ 17  10  19]\n",
            "  [ 10  19  10]\n",
            "  [ 10  13  17]]]\n"
          ]
        }
      ]
    },
    {
      "cell_type": "markdown",
      "source": [
        "**Slicing Operations--**"
      ],
      "metadata": {
        "id": "k-xbdS3SbUQc"
      }
    },
    {
      "cell_type": "code",
      "source": [
        "# slicing 1-D array\n",
        "a = np.arange(10)\n",
        "print(a)\n",
        "print(a[2:5])"
      ],
      "metadata": {
        "colab": {
          "base_uri": "https://localhost:8080/"
        },
        "id": "7kNdvm_ebTN0",
        "outputId": "dca37e40-ebc4-414e-9ae1-a5f46c244677"
      },
      "execution_count": 56,
      "outputs": [
        {
          "output_type": "execute_result",
          "data": {
            "text/plain": [
              "array([2, 3, 4])"
            ]
          },
          "metadata": {},
          "execution_count": 56
        }
      ]
    },
    {
      "cell_type": "code",
      "source": [
        "# slicing 2-D array\n",
        "b = np.random.randint(2,9,(3,3))\n",
        "print(b)\n",
        "print('---------------------')\n",
        "print(b[0:2])\n"
      ],
      "metadata": {
        "colab": {
          "base_uri": "https://localhost:8080/"
        },
        "id": "EIYfUNDVbo_O",
        "outputId": "70ad5fee-ff4a-4f7c-e5b9-1c414fb22048"
      },
      "execution_count": 67,
      "outputs": [
        {
          "output_type": "stream",
          "name": "stdout",
          "text": [
            "[[8 4 6]\n",
            " [3 5 4]\n",
            " [4 6 7]]\n",
            "---------------------\n",
            "[[8 4 6]\n",
            " [3 5 4]]\n",
            "---------------------\n",
            "[]\n"
          ]
        }
      ]
    },
    {
      "cell_type": "code",
      "source": [
        "b = np.random.randint(2,9,(3,3))\n",
        "print(b)\n",
        "print('---------------------')\n",
        "print(b[0:2,-2:])"
      ],
      "metadata": {
        "colab": {
          "base_uri": "https://localhost:8080/"
        },
        "id": "O_JGhR4FdMJl",
        "outputId": "539947e5-962e-4b80-f9d3-65b04db1adbd"
      },
      "execution_count": 69,
      "outputs": [
        {
          "output_type": "stream",
          "name": "stdout",
          "text": [
            "[[2 8 4]\n",
            " [7 2 8]\n",
            " [5 5 6]]\n",
            "---------------------\n",
            "[[8 4]\n",
            " [2 8]]\n"
          ]
        }
      ]
    },
    {
      "cell_type": "code",
      "source": [
        "# slicing 3-D array\n",
        "c = np.random.randint(2,7,(3,2,2))\n",
        "print(c)\n",
        "print('-----------')\n",
        "print(c[0:2,1:,1:])"
      ],
      "metadata": {
        "colab": {
          "base_uri": "https://localhost:8080/"
        },
        "id": "o3z3Z8QadZ_i",
        "outputId": "a3ec4fc2-04fc-41db-9f6a-e643cdb28579"
      },
      "execution_count": 70,
      "outputs": [
        {
          "output_type": "stream",
          "name": "stdout",
          "text": [
            "[[[3 3]\n",
            "  [2 3]]\n",
            "\n",
            " [[5 5]\n",
            "  [2 4]]\n",
            "\n",
            " [[4 6]\n",
            "  [4 6]]]\n",
            "-----------\n",
            "[[[3]]\n",
            "\n",
            " [[4]]]\n"
          ]
        }
      ]
    },
    {
      "cell_type": "markdown",
      "source": [
        "**array manipulations--**\n",
        "\n",
        "1. np.tanspose(array)- to transpose array\n",
        "2. np.reshape(array,shape)-to change shape of an array(2x3--3x2 but not(3x4)\n",
        "3. np.resize(array,shape)-to return new array with shape(3x2--2x3--2x5)\n",
        "4. np.flatten(array)-to flatten the array"
      ],
      "metadata": {
        "id": "J4iPvfLlSSfj"
      }
    },
    {
      "cell_type": "code",
      "source": [
        "a = np.random.randint(2,7,(2,3))\n",
        "print(a)\n",
        "print('--------------')\n",
        "print(np.transpose(a))\n",
        "print('--------------')\n",
        "print(np.reshape(a,(3,2)))\n",
        "print('--------------')\n",
        "print(np.resize(a,(3,5)))\n",
        "print('--------------')\n",
        "print(a.flatten())\n"
      ],
      "metadata": {
        "colab": {
          "base_uri": "https://localhost:8080/"
        },
        "id": "8iRpX0ftTMZ_",
        "outputId": "d717ec82-9428-48e9-9b6e-a6bc2c317697"
      },
      "execution_count": 75,
      "outputs": [
        {
          "output_type": "stream",
          "name": "stdout",
          "text": [
            "[[2 6 2]\n",
            " [6 4 6]]\n",
            "--------------\n",
            "[[2 6]\n",
            " [6 4]\n",
            " [2 6]]\n",
            "--------------\n",
            "[[2 6]\n",
            " [2 6]\n",
            " [4 6]]\n",
            "--------------\n",
            "[[2 6 2 6 4]\n",
            " [6 2 6 2 6]\n",
            " [4 6 2 6 2]]\n",
            "--------------\n",
            "[2 6 2 6 4 6]\n"
          ]
        }
      ]
    }
  ]
}