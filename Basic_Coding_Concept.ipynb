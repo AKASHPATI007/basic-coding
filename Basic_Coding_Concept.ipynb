{
  "nbformat": 4,
  "nbformat_minor": 0,
  "metadata": {
    "colab": {
      "provenance": [],
      "authorship_tag": "ABX9TyPggqemih8zU4S9f1wmPo7D",
      "include_colab_link": true
    },
    "kernelspec": {
      "name": "python3",
      "display_name": "Python 3"
    },
    "language_info": {
      "name": "python"
    }
  },
  "cells": [
    {
      "cell_type": "markdown",
      "metadata": {
        "id": "view-in-github",
        "colab_type": "text"
      },
      "source": [
        "<a href=\"https://colab.research.google.com/github/AKASHPATI007/basic-coding/blob/main/Basic_Coding_Concept.ipynb\" target=\"_parent\"><img src=\"https://colab.research.google.com/assets/colab-badge.svg\" alt=\"Open In Colab\"/></a>"
      ]
    },
    {
      "cell_type": "markdown",
      "source": [
        "**STRING**"
      ],
      "metadata": {
        "id": "wAEcm26c61p2"
      }
    },
    {
      "cell_type": "code",
      "execution_count": null,
      "metadata": {
        "colab": {
          "base_uri": "https://localhost:8080/"
        },
        "id": "VCUXlVPt6j15",
        "outputId": "db2e01f4-eda4-4635-9516-d7b9c8ec1b3d"
      },
      "outputs": [
        {
          "output_type": "stream",
          "name": "stdout",
          "text": [
            "10\n"
          ]
        }
      ],
      "source": [
        "# LEN\n",
        "algo = 'regression'\n",
        "print(len(algo))"
      ]
    },
    {
      "cell_type": "code",
      "source": [
        "# STRING INDEXING\n",
        "string = 'JOKER'\n",
        "print(string[1])\n",
        "print(string[-1])\n",
        "print(string[-4])"
      ],
      "metadata": {
        "colab": {
          "base_uri": "https://localhost:8080/"
        },
        "id": "qncC6E8H7gng",
        "outputId": "ceeeb21e-e1fe-4587-df8f-d7219e406f59"
      },
      "execution_count": null,
      "outputs": [
        {
          "output_type": "stream",
          "name": "stdout",
          "text": [
            "O\n",
            "R\n",
            "O\n"
          ]
        }
      ]
    },
    {
      "cell_type": "code",
      "source": [
        "# STRING SLICING\n",
        "print(string[1:5])\n",
        "print(string[-2:])\n",
        "print(string[:-1])\n",
        "print(string[-3:-1])\n",
        "print(string[1:-1])\n",
        "            "
      ],
      "metadata": {
        "colab": {
          "base_uri": "https://localhost:8080/"
        },
        "id": "4mIBb9Tc8DTM",
        "outputId": "916f8640-5e6e-413a-a6e5-8b2d8b7b0586"
      },
      "execution_count": null,
      "outputs": [
        {
          "output_type": "stream",
          "name": "stdout",
          "text": [
            "OKER\n",
            "ER\n",
            "JOKE\n",
            "KE\n",
            "OKE\n"
          ]
        }
      ]
    },
    {
      "cell_type": "code",
      "source": [
        "# step size\n",
        "print(string[1:5:2])\n",
        "print(string[4:1:-1])\n",
        "print(string[::-1])\n",
        "print(string[::-3])\n",
        "print(string[0::-3])\n",
        "print(string[1::-3])"
      ],
      "metadata": {
        "colab": {
          "base_uri": "https://localhost:8080/"
        },
        "id": "0WwRtQos9ta3",
        "outputId": "7f56e920-5547-4a6e-a654-45cecba92b25"
      },
      "execution_count": null,
      "outputs": [
        {
          "output_type": "stream",
          "name": "stdout",
          "text": [
            "OE\n",
            "REK\n",
            "REKOJ\n",
            "RO\n",
            "J\n",
            "O\n"
          ]
        }
      ]
    },
    {
      "cell_type": "code",
      "source": [
        "# lower\n",
        "a = 'ALGORITHM'\n",
        "print(a.lower())\n",
        "A= 'ALGORITHM'\n",
        "print(A.upper())"
      ],
      "metadata": {
        "id": "o9UFAl2y93NF",
        "colab": {
          "base_uri": "https://localhost:8080/"
        },
        "outputId": "0b50f819-4b83-49ed-8b24-d330e0c7cb28"
      },
      "execution_count": null,
      "outputs": [
        {
          "output_type": "stream",
          "name": "stdout",
          "text": [
            "algorithm\n",
            "ALGORITHM\n"
          ]
        }
      ]
    },
    {
      "cell_type": "code",
      "source": [
        "# Count\n",
        "a = 'neural network'\n",
        "print(a.count('ne'))\n",
        "print(a.count('l'))"
      ],
      "metadata": {
        "colab": {
          "base_uri": "https://localhost:8080/"
        },
        "id": "WHDv_hqCufp2",
        "outputId": "ec7119e2-cf23-494b-dfd2-c58d08aeedde"
      },
      "execution_count": null,
      "outputs": [
        {
          "output_type": "stream",
          "name": "stdout",
          "text": [
            "2\n",
            "1\n"
          ]
        }
      ]
    },
    {
      "cell_type": "code",
      "source": [
        "# find\n",
        "print(a.find('a'))"
      ],
      "metadata": {
        "colab": {
          "base_uri": "https://localhost:8080/"
        },
        "id": "GBLT96fyu_iE",
        "outputId": "d9b86f91-7c05-4add-c1a0-5331bf242be7"
      },
      "execution_count": null,
      "outputs": [
        {
          "output_type": "stream",
          "name": "stdout",
          "text": [
            "4\n"
          ]
        }
      ]
    },
    {
      "cell_type": "code",
      "source": [
        "# replace\n",
        "print(a.replace('n','l'))"
      ],
      "metadata": {
        "colab": {
          "base_uri": "https://localhost:8080/"
        },
        "id": "M46jM_yyvLXK",
        "outputId": "a4ba94fc-4141-418b-eae7-a67a1d9afe86"
      },
      "execution_count": null,
      "outputs": [
        {
          "output_type": "stream",
          "name": "stdout",
          "text": [
            "leural letwork\n"
          ]
        }
      ]
    },
    {
      "cell_type": "code",
      "source": [
        "# f string\n",
        "FN = 'Akashpati'\n",
        "LN = 'Mishra'\n",
        "print(f\"{FN} {LN}\")"
      ],
      "metadata": {
        "colab": {
          "base_uri": "https://localhost:8080/"
        },
        "id": "E2zsxrkqvsb1",
        "outputId": "5f9dbe6c-d856-44ef-b2cc-565e0b083d8f"
      },
      "execution_count": null,
      "outputs": [
        {
          "output_type": "stream",
          "name": "stdout",
          "text": [
            "Akashpati Mishra\n"
          ]
        }
      ]
    },
    {
      "cell_type": "markdown",
      "source": [
        "**List**"
      ],
      "metadata": {
        "id": "IaYglugMwKmA"
      }
    },
    {
      "cell_type": "code",
      "source": [
        "my_list = ['string', 23 ,100.20, '0' , True]\n",
        "my_list"
      ],
      "metadata": {
        "colab": {
          "base_uri": "https://localhost:8080/"
        },
        "id": "R9bn3ltbwP3q",
        "outputId": "b747fb69-e45b-43bb-f5c0-efc927a9064d"
      },
      "execution_count": null,
      "outputs": [
        {
          "output_type": "execute_result",
          "data": {
            "text/plain": [
              "['string', 23, 100.2, '0', True]"
            ]
          },
          "metadata": {},
          "execution_count": 12
        }
      ]
    },
    {
      "cell_type": "code",
      "source": [
        "# List Indexing\n",
        "# List Slicing"
      ],
      "metadata": {
        "id": "VV8flUcQyito"
      },
      "execution_count": null,
      "outputs": []
    },
    {
      "cell_type": "code",
      "source": [
        "# aggregation function\n",
        "new_list = [2,54,7,5,4,3,45]\n",
        "print(min(new_list))\n",
        "print(max(new_list))\n",
        "print(sum(new_list))\n",
        "print(sorted(new_list))\n"
      ],
      "metadata": {
        "colab": {
          "base_uri": "https://localhost:8080/"
        },
        "id": "XdBmUQZYzCvK",
        "outputId": "f06dd351-cd0d-4a6f-81da-e20cd9dc8e29"
      },
      "execution_count": null,
      "outputs": [
        {
          "output_type": "stream",
          "name": "stdout",
          "text": [
            "2\n",
            "54\n",
            "120\n",
            "[2, 3, 4, 5, 7, 45, 54]\n"
          ]
        }
      ]
    },
    {
      "cell_type": "code",
      "source": [
        "# Sorted\n",
        "new_list2 = ['akash', 'Sujain', 'preeti', 'Sabha', 'neha']\n",
        "print(sorted(new_list2))\n",
        "print(sorted(new_list2,reverse = True))"
      ],
      "metadata": {
        "colab": {
          "base_uri": "https://localhost:8080/"
        },
        "id": "RYq8kqvrzl6o",
        "outputId": "9030edae-29db-4499-f22c-876034ea419d"
      },
      "execution_count": null,
      "outputs": [
        {
          "output_type": "stream",
          "name": "stdout",
          "text": [
            "['Sabha', 'Sujain', 'akash', 'neha', 'preeti']\n",
            "['preeti', 'neha', 'akash', 'Sujain', 'Sabha']\n"
          ]
        }
      ]
    },
    {
      "cell_type": "code",
      "source": [
        "# List Method\n",
        "# Append\n",
        "my_list = [1,2,5,4,7,99]\n",
        "my_list.append(45)\n",
        "print(my_list)"
      ],
      "metadata": {
        "colab": {
          "base_uri": "https://localhost:8080/"
        },
        "id": "QNT5Pnzf0rpW",
        "outputId": "5e2f0b43-bbfd-4245-a050-df80e21a795d"
      },
      "execution_count": null,
      "outputs": [
        {
          "output_type": "stream",
          "name": "stdout",
          "text": [
            "[1, 2, 5, 4, 7, 99, 45]\n"
          ]
        }
      ]
    },
    {
      "cell_type": "code",
      "source": [
        "my_list.append([1,4,3])\n",
        "print(my_list)"
      ],
      "metadata": {
        "colab": {
          "base_uri": "https://localhost:8080/"
        },
        "id": "AWso0VFp1z3g",
        "outputId": "4476a0f4-faa2-4790-887d-8a0782b91110"
      },
      "execution_count": null,
      "outputs": [
        {
          "output_type": "stream",
          "name": "stdout",
          "text": [
            "[1, 2, 5, 4, 7, 99, 45, [1, 4, 3]]\n"
          ]
        }
      ]
    },
    {
      "cell_type": "code",
      "source": [
        "# Extend\n",
        "my_list.extend([11,3,8])\n",
        "print(my_list)"
      ],
      "metadata": {
        "colab": {
          "base_uri": "https://localhost:8080/"
        },
        "id": "owvwAQ1x2DoJ",
        "outputId": "f107645b-a3db-45d8-caf1-e50acb5b3f6d"
      },
      "execution_count": null,
      "outputs": [
        {
          "output_type": "stream",
          "name": "stdout",
          "text": [
            "[1, 2, 5, 4, 7, 99, 45, [1, 4, 3], 11, 3, 8]\n"
          ]
        }
      ]
    },
    {
      "cell_type": "code",
      "source": [
        "# POp\n",
        "print(my_list.pop())\n",
        "print(my_list)\n"
      ],
      "metadata": {
        "id": "O0-3qGrm2X9J",
        "colab": {
          "base_uri": "https://localhost:8080/"
        },
        "outputId": "248aebfd-ca4d-4f1d-98b6-f7a3aa0abb90"
      },
      "execution_count": null,
      "outputs": [
        {
          "output_type": "stream",
          "name": "stdout",
          "text": [
            "11\n",
            "[1, 2, 5, 4, 7, 99, 45, [1, 4, 3]]\n"
          ]
        }
      ]
    },
    {
      "cell_type": "code",
      "source": [
        "print(my_list.pop(4))\n",
        "print(my_list)"
      ],
      "metadata": {
        "colab": {
          "base_uri": "https://localhost:8080/"
        },
        "id": "0QylBS3w0jAm",
        "outputId": "9120c78c-1c6e-4e13-d409-b76fd59ec3a8"
      },
      "execution_count": null,
      "outputs": [
        {
          "output_type": "stream",
          "name": "stdout",
          "text": [
            "7\n",
            "[1, 2, 5, 4, 99, 45, [1, 4, 3]]\n"
          ]
        }
      ]
    },
    {
      "cell_type": "code",
      "source": [
        "# remove()\n",
        "k_list = [1,2,3,4,5,6,7]\n",
        "k_list.remove(5)\n",
        "print(k_list)"
      ],
      "metadata": {
        "colab": {
          "base_uri": "https://localhost:8080/"
        },
        "id": "sPKUAjQy1H57",
        "outputId": "05999fe8-c5e5-41a3-e59e-a800c80932f9"
      },
      "execution_count": null,
      "outputs": [
        {
          "output_type": "stream",
          "name": "stdout",
          "text": [
            "[1, 2, 3, 4, 6, 7]\n"
          ]
        }
      ]
    },
    {
      "cell_type": "code",
      "source": [
        "# clear-- clear the list--\n",
        "k_list.clear()\n",
        "k_list"
      ],
      "metadata": {
        "colab": {
          "base_uri": "https://localhost:8080/"
        },
        "id": "avR1eMlB1RGB",
        "outputId": "19273df4-8bb5-4411-fc52-16f95a2abf3b"
      },
      "execution_count": null,
      "outputs": [
        {
          "output_type": "execute_result",
          "data": {
            "text/plain": [
              "[]"
            ]
          },
          "metadata": {},
          "execution_count": 34
        }
      ]
    },
    {
      "cell_type": "code",
      "source": [
        "# count-- returns total occurance of specified element\n",
        "a_list = [1,2,45,2,5,2,6,8,5,3,3,6,8,'jyoti']\n",
        "a_list.count(2)"
      ],
      "metadata": {
        "colab": {
          "base_uri": "https://localhost:8080/"
        },
        "id": "lNghH9Xc2EIa",
        "outputId": "4bf42d7d-0e34-42c0-dc5d-3ac5cc14c7a2"
      },
      "execution_count": null,
      "outputs": [
        {
          "output_type": "execute_result",
          "data": {
            "text/plain": [
              "3"
            ]
          },
          "metadata": {},
          "execution_count": 31
        }
      ]
    },
    {
      "cell_type": "code",
      "source": [
        "# index()-returns the index of specified element\n",
        "print(a_list.index(45))\n",
        "print(a_list.index('jyoti'))"
      ],
      "metadata": {
        "colab": {
          "base_uri": "https://localhost:8080/"
        },
        "id": "QCJcuPoF2csO",
        "outputId": "bd5483ff-aef7-49e0-b987-8c374bc96852"
      },
      "execution_count": null,
      "outputs": [
        {
          "output_type": "stream",
          "name": "stdout",
          "text": [
            "2\n",
            "13\n"
          ]
        }
      ]
    },
    {
      "cell_type": "code",
      "source": [
        "#sort() - sort either ascending or descending order\n",
        "b_list = [4,2,67,45,3,6,8,65,4,3,3]\n",
        "b_list.sort()\n",
        "b_list"
      ],
      "metadata": {
        "colab": {
          "base_uri": "https://localhost:8080/"
        },
        "id": "1Do9OtG-2TMU",
        "outputId": "0855b45d-2c02-40e6-880e-d981dfc7861e"
      },
      "execution_count": null,
      "outputs": [
        {
          "output_type": "execute_result",
          "data": {
            "text/plain": [
              "[2, 3, 3, 3, 4, 4, 6, 8, 45, 65, 67]"
            ]
          },
          "metadata": {},
          "execution_count": 40
        }
      ]
    },
    {
      "cell_type": "code",
      "source": [
        "#  reverse()- reverse the list\n",
        "b_list.reverse()\n",
        "b_list"
      ],
      "metadata": {
        "colab": {
          "base_uri": "https://localhost:8080/"
        },
        "id": "f8n7E38G5WZS",
        "outputId": "324445cb-3ce2-4378-f69d-7195298a8380"
      },
      "execution_count": null,
      "outputs": [
        {
          "output_type": "execute_result",
          "data": {
            "text/plain": [
              "[67, 65, 45, 8, 6, 4, 4, 3, 3, 3, 2]"
            ]
          },
          "metadata": {},
          "execution_count": 41
        }
      ]
    },
    {
      "cell_type": "code",
      "source": [
        "import array as arr\n",
        "\n",
        "# creating an integer data type array\n",
        "x = arr.array('i', [1,2,3,4,5,6,7])\n",
        "\n",
        "\n",
        "# creatomg a list\n",
        "y = [8, 9, 10]\n",
        "\n",
        "# using the fromlist() function\n",
        "x.fromlist(y)\n",
        "\n",
        "# Printing the new array\n",
        "print(x)\n"
      ],
      "metadata": {
        "colab": {
          "base_uri": "https://localhost:8080/"
        },
        "id": "ROeUdOzz6Qxm",
        "outputId": "b3774386-9b71-44b4-efa1-31a1396c1eff"
      },
      "execution_count": null,
      "outputs": [
        {
          "output_type": "stream",
          "name": "stdout",
          "text": [
            "array('i', [1, 2, 3, 4, 5, 6, 7, 8, 9, 10])\n"
          ]
        }
      ]
    },
    {
      "cell_type": "code",
      "source": [
        "x.tolist()\n",
        "x"
      ],
      "metadata": {
        "colab": {
          "base_uri": "https://localhost:8080/"
        },
        "id": "Ba5YG0Aj8szN",
        "outputId": "c9425052-fc9d-46bc-9a73-9bb978301d1f"
      },
      "execution_count": null,
      "outputs": [
        {
          "output_type": "execute_result",
          "data": {
            "text/plain": [
              "array('i', [1, 2, 3, 4, 5, 6, 7])"
            ]
          },
          "metadata": {},
          "execution_count": 45
        }
      ]
    },
    {
      "cell_type": "markdown",
      "source": [
        "**Tuples, Sets and Dictionary**\n",
        "\n",
        "Tuple is immutable"
      ],
      "metadata": {
        "id": "3m52pgge98ET"
      }
    },
    {
      "cell_type": "code",
      "source": [
        "# use () bracket for tuple\n",
        "my_tuple = (1,2,3,4,5)\n",
        "my_tuple"
      ],
      "metadata": {
        "colab": {
          "base_uri": "https://localhost:8080/"
        },
        "id": "xqbImm8a9bs9",
        "outputId": "71d79aa9-4f08-4be1-f8c7-f4ab5b3e91a6"
      },
      "execution_count": null,
      "outputs": [
        {
          "output_type": "execute_result",
          "data": {
            "text/plain": [
              "(1, 2, 3, 4, 5)"
            ]
          },
          "metadata": {},
          "execution_count": 46
        }
      ]
    },
    {
      "cell_type": "code",
      "source": [
        "# tuple indexing , tuple slicing working is same a string or list working\n",
        "# remember to see brackets\n",
        "print(my_tuple[2])"
      ],
      "metadata": {
        "colab": {
          "base_uri": "https://localhost:8080/"
        },
        "id": "TY7bOg_d2sPk",
        "outputId": "dfbf53b4-1018-4063-fad9-51a50cf52974"
      },
      "execution_count": null,
      "outputs": [
        {
          "output_type": "stream",
          "name": "stdout",
          "text": [
            "3\n"
          ]
        }
      ]
    },
    {
      "cell_type": "code",
      "source": [
        "# indexing\n",
        "my_tuple = (1,2,3,4,5)\n",
        "my_tuple.index(2)"
      ],
      "metadata": {
        "colab": {
          "base_uri": "https://localhost:8080/"
        },
        "id": "ARy0iOwF3Z6R",
        "outputId": "383eb9b9-13c9-42e5-dcb6-270ca88bb8b8"
      },
      "execution_count": null,
      "outputs": [
        {
          "output_type": "execute_result",
          "data": {
            "text/plain": [
              "1"
            ]
          },
          "metadata": {},
          "execution_count": 50
        }
      ]
    },
    {
      "cell_type": "code",
      "source": [
        "# Tuple does not support method such as append(), extend(), remove(), pop()"
      ],
      "metadata": {
        "id": "HMmeWlpn3xed"
      },
      "execution_count": null,
      "outputs": []
    },
    {
      "cell_type": "code",
      "source": [
        "# zip()\n",
        "city_list = ['del','pat','cutt','guw']\n",
        "riv_list = ['yam','ganga','mahanadi','brahmputra']\n",
        "city_river = list(zip(city_list,riv_list))\n",
        "print(city_river)"
      ],
      "metadata": {
        "colab": {
          "base_uri": "https://localhost:8080/"
        },
        "id": "-uILfCJU4TPK",
        "outputId": "dced5a34-ced9-4415-c1a8-700eae0b2b27"
      },
      "execution_count": null,
      "outputs": [
        {
          "output_type": "stream",
          "name": "stdout",
          "text": [
            "[('del', 'yam'), ('pat', 'ganga'), ('cutt', 'mahanadi'), ('guw', 'brahmputra')]\n"
          ]
        }
      ]
    },
    {
      "cell_type": "code",
      "source": [
        "# convert to dictionary\n",
        "dict_1 = dict(city_river)\n",
        "dict_1"
      ],
      "metadata": {
        "colab": {
          "base_uri": "https://localhost:8080/"
        },
        "id": "qGq0Rggf5ENK",
        "outputId": "dea7e24d-fe6d-4841-d9b8-f7fe3b870373"
      },
      "execution_count": null,
      "outputs": [
        {
          "output_type": "execute_result",
          "data": {
            "text/plain": [
              "{'del': 'yam', 'pat': 'ganga', 'cutt': 'mahanadi', 'guw': 'brahmputra'}"
            ]
          },
          "metadata": {},
          "execution_count": 52
        }
      ]
    },
    {
      "cell_type": "markdown",
      "source": [
        "**SET**"
      ],
      "metadata": {
        "id": "w_9dCwIx5Yz-"
      }
    },
    {
      "cell_type": "code",
      "source": [
        "# empty_set =set()\n",
        "# non_emppty_set = {1,3,5,'abc'}\n"
      ],
      "metadata": {
        "id": "MnaGmFXP5eLn"
      },
      "execution_count": null,
      "outputs": []
    },
    {
      "cell_type": "code",
      "source": [
        "my_list = [1,1,2,4,3,3,2,4,6,5,4,3,3,8,7,6,5,4]\n",
        "my_set = set(my_list)\n",
        "my_set"
      ],
      "metadata": {
        "colab": {
          "base_uri": "https://localhost:8080/"
        },
        "id": "KP1AehYV5u9w",
        "outputId": "4aeaff10-8cb3-4df5-ec21-51769f45708e"
      },
      "execution_count": null,
      "outputs": [
        {
          "output_type": "execute_result",
          "data": {
            "text/plain": [
              "{1, 2, 3, 4, 5, 6, 7, 8}"
            ]
          },
          "metadata": {},
          "execution_count": 54
        }
      ]
    },
    {
      "cell_type": "code",
      "source": [
        "# Set can't have mutable item but set is mutable \n",
        "my_set = {1,2,[3,4]}\n",
        "my_set"
      ],
      "metadata": {
        "colab": {
          "base_uri": "https://localhost:8080/",
          "height": 200
        },
        "id": "Sz_eX9ze76wX",
        "outputId": "7a8de708-06f3-45a7-eb5d-424becaf9e8a"
      },
      "execution_count": null,
      "outputs": [
        {
          "output_type": "error",
          "ename": "TypeError",
          "evalue": "ignored",
          "traceback": [
            "\u001b[0;31m---------------------------------------------------------------------------\u001b[0m",
            "\u001b[0;31mTypeError\u001b[0m                                 Traceback (most recent call last)",
            "\u001b[0;32m<ipython-input-55-7b5703986225>\u001b[0m in \u001b[0;36m<cell line: 2>\u001b[0;34m()\u001b[0m\n\u001b[1;32m      1\u001b[0m \u001b[0;31m# Set can't have mutable item but set is mutable\u001b[0m\u001b[0;34m\u001b[0m\u001b[0;34m\u001b[0m\u001b[0m\n\u001b[0;32m----> 2\u001b[0;31m \u001b[0mmy_set\u001b[0m \u001b[0;34m=\u001b[0m \u001b[0;34m{\u001b[0m\u001b[0;36m1\u001b[0m\u001b[0;34m,\u001b[0m\u001b[0;36m2\u001b[0m\u001b[0;34m,\u001b[0m\u001b[0;34m[\u001b[0m\u001b[0;36m3\u001b[0m\u001b[0;34m,\u001b[0m\u001b[0;36m4\u001b[0m\u001b[0;34m]\u001b[0m\u001b[0;34m}\u001b[0m\u001b[0;34m\u001b[0m\u001b[0;34m\u001b[0m\u001b[0m\n\u001b[0m\u001b[1;32m      3\u001b[0m \u001b[0mmy_set\u001b[0m\u001b[0;34m\u001b[0m\u001b[0;34m\u001b[0m\u001b[0m\n",
            "\u001b[0;31mTypeError\u001b[0m: unhashable type: 'list'"
          ]
        }
      ]
    },
    {
      "cell_type": "code",
      "source": [
        "# \\"
      ],
      "metadata": {
        "id": "VwupuIk38S5x"
      },
      "execution_count": null,
      "outputs": []
    }
  ]
}