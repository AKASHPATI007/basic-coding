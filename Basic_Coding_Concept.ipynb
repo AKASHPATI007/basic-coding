{
  "nbformat": 4,
  "nbformat_minor": 0,
  "metadata": {
    "colab": {
      "provenance": [],
      "authorship_tag": "ABX9TyP0Bd3LSY38GrfZaRfFqOgy",
      "include_colab_link": true
    },
    "kernelspec": {
      "name": "python3",
      "display_name": "Python 3"
    },
    "language_info": {
      "name": "python"
    }
  },
  "cells": [
    {
      "cell_type": "markdown",
      "metadata": {
        "id": "view-in-github",
        "colab_type": "text"
      },
      "source": [
        "<a href=\"https://colab.research.google.com/github/AKASHPATI007/basic-coding/blob/main/Basic_Coding_Concept.ipynb\" target=\"_parent\"><img src=\"https://colab.research.google.com/assets/colab-badge.svg\" alt=\"Open In Colab\"/></a>"
      ]
    },
    {
      "cell_type": "markdown",
      "source": [
        "**STRING**"
      ],
      "metadata": {
        "id": "wAEcm26c61p2"
      }
    },
    {
      "cell_type": "code",
      "execution_count": null,
      "metadata": {
        "colab": {
          "base_uri": "https://localhost:8080/"
        },
        "id": "VCUXlVPt6j15",
        "outputId": "db2e01f4-eda4-4635-9516-d7b9c8ec1b3d"
      },
      "outputs": [
        {
          "output_type": "stream",
          "name": "stdout",
          "text": [
            "10\n"
          ]
        }
      ],
      "source": [
        "# LEN\n",
        "algo = 'regression'\n",
        "print(len(algo))"
      ]
    },
    {
      "cell_type": "code",
      "source": [
        "# STRING INDEXING\n",
        "string = 'JOKER'\n",
        "print(string[1])\n",
        "print(string[-1])\n",
        "print(string[-4])"
      ],
      "metadata": {
        "colab": {
          "base_uri": "https://localhost:8080/"
        },
        "id": "qncC6E8H7gng",
        "outputId": "ceeeb21e-e1fe-4587-df8f-d7219e406f59"
      },
      "execution_count": null,
      "outputs": [
        {
          "output_type": "stream",
          "name": "stdout",
          "text": [
            "O\n",
            "R\n",
            "O\n"
          ]
        }
      ]
    },
    {
      "cell_type": "code",
      "source": [
        "# STRING SLICING\n",
        "print(string[1:5])\n",
        "print(string[-2:])\n",
        "print(string[:-1])\n",
        "print(string[-3:-1])\n",
        "print(string[1:-1])\n",
        "            "
      ],
      "metadata": {
        "colab": {
          "base_uri": "https://localhost:8080/"
        },
        "id": "4mIBb9Tc8DTM",
        "outputId": "916f8640-5e6e-413a-a6e5-8b2d8b7b0586"
      },
      "execution_count": null,
      "outputs": [
        {
          "output_type": "stream",
          "name": "stdout",
          "text": [
            "OKER\n",
            "ER\n",
            "JOKE\n",
            "KE\n",
            "OKE\n"
          ]
        }
      ]
    },
    {
      "cell_type": "code",
      "source": [
        "# step size\n",
        "print(string[1:5:2])\n",
        "print(string[4:1:-1])\n",
        "print(string[::-1])\n",
        "print(string[::-3])\n",
        "print(string[0::-3])\n",
        "print(string[1::-3])"
      ],
      "metadata": {
        "colab": {
          "base_uri": "https://localhost:8080/"
        },
        "id": "0WwRtQos9ta3",
        "outputId": "7f56e920-5547-4a6e-a654-45cecba92b25"
      },
      "execution_count": null,
      "outputs": [
        {
          "output_type": "stream",
          "name": "stdout",
          "text": [
            "OE\n",
            "REK\n",
            "REKOJ\n",
            "RO\n",
            "J\n",
            "O\n"
          ]
        }
      ]
    },
    {
      "cell_type": "code",
      "source": [
        "# lower\n",
        "a = 'ALGORITHM'\n",
        "print(a.lower())\n",
        "A= 'ALGORITHM'\n",
        "print(A.upper())"
      ],
      "metadata": {
        "id": "o9UFAl2y93NF",
        "colab": {
          "base_uri": "https://localhost:8080/"
        },
        "outputId": "0b50f819-4b83-49ed-8b24-d330e0c7cb28"
      },
      "execution_count": null,
      "outputs": [
        {
          "output_type": "stream",
          "name": "stdout",
          "text": [
            "algorithm\n",
            "ALGORITHM\n"
          ]
        }
      ]
    },
    {
      "cell_type": "code",
      "source": [
        "# Count\n",
        "a = 'neural network'\n",
        "print(a.count('ne'))\n",
        "print(a.count('l'))"
      ],
      "metadata": {
        "colab": {
          "base_uri": "https://localhost:8080/"
        },
        "id": "WHDv_hqCufp2",
        "outputId": "ec7119e2-cf23-494b-dfd2-c58d08aeedde"
      },
      "execution_count": null,
      "outputs": [
        {
          "output_type": "stream",
          "name": "stdout",
          "text": [
            "2\n",
            "1\n"
          ]
        }
      ]
    },
    {
      "cell_type": "code",
      "source": [
        "# find\n",
        "print(a.find('a'))"
      ],
      "metadata": {
        "colab": {
          "base_uri": "https://localhost:8080/"
        },
        "id": "GBLT96fyu_iE",
        "outputId": "d9b86f91-7c05-4add-c1a0-5331bf242be7"
      },
      "execution_count": null,
      "outputs": [
        {
          "output_type": "stream",
          "name": "stdout",
          "text": [
            "4\n"
          ]
        }
      ]
    },
    {
      "cell_type": "code",
      "source": [
        "# replace\n",
        "print(a.replace('n','l'))"
      ],
      "metadata": {
        "colab": {
          "base_uri": "https://localhost:8080/"
        },
        "id": "M46jM_yyvLXK",
        "outputId": "a4ba94fc-4141-418b-eae7-a67a1d9afe86"
      },
      "execution_count": null,
      "outputs": [
        {
          "output_type": "stream",
          "name": "stdout",
          "text": [
            "leural letwork\n"
          ]
        }
      ]
    },
    {
      "cell_type": "code",
      "source": [
        "# f string\n",
        "FN = 'Akashpati'\n",
        "LN = 'Mishra'\n",
        "print(f\"{FN} {LN}\")"
      ],
      "metadata": {
        "colab": {
          "base_uri": "https://localhost:8080/"
        },
        "id": "E2zsxrkqvsb1",
        "outputId": "5f9dbe6c-d856-44ef-b2cc-565e0b083d8f"
      },
      "execution_count": null,
      "outputs": [
        {
          "output_type": "stream",
          "name": "stdout",
          "text": [
            "Akashpati Mishra\n"
          ]
        }
      ]
    },
    {
      "cell_type": "markdown",
      "source": [
        "**List**"
      ],
      "metadata": {
        "id": "IaYglugMwKmA"
      }
    },
    {
      "cell_type": "code",
      "source": [
        "my_list = ['string', 23 ,100.20, '0' , True]\n",
        "my_list"
      ],
      "metadata": {
        "colab": {
          "base_uri": "https://localhost:8080/"
        },
        "id": "R9bn3ltbwP3q",
        "outputId": "b747fb69-e45b-43bb-f5c0-efc927a9064d"
      },
      "execution_count": null,
      "outputs": [
        {
          "output_type": "execute_result",
          "data": {
            "text/plain": [
              "['string', 23, 100.2, '0', True]"
            ]
          },
          "metadata": {},
          "execution_count": 12
        }
      ]
    },
    {
      "cell_type": "code",
      "source": [
        "# List Indexing\n",
        "# List Slicing"
      ],
      "metadata": {
        "id": "VV8flUcQyito"
      },
      "execution_count": null,
      "outputs": []
    },
    {
      "cell_type": "code",
      "source": [
        "# aggregation function\n",
        "new_list = [2,54,7,5,4,3,45]\n",
        "print(min(new_list))\n",
        "print(max(new_list))\n",
        "print(sum(new_list))\n",
        "print(sorted(new_list))\n"
      ],
      "metadata": {
        "colab": {
          "base_uri": "https://localhost:8080/"
        },
        "id": "XdBmUQZYzCvK",
        "outputId": "f06dd351-cd0d-4a6f-81da-e20cd9dc8e29"
      },
      "execution_count": null,
      "outputs": [
        {
          "output_type": "stream",
          "name": "stdout",
          "text": [
            "2\n",
            "54\n",
            "120\n",
            "[2, 3, 4, 5, 7, 45, 54]\n"
          ]
        }
      ]
    },
    {
      "cell_type": "code",
      "source": [
        "# Sorted\n",
        "new_list2 = ['akash', 'Sujain', 'preeti', 'Sabha', 'neha']\n",
        "print(sorted(new_list2))\n",
        "print(sorted(new_list2,reverse = True))"
      ],
      "metadata": {
        "colab": {
          "base_uri": "https://localhost:8080/"
        },
        "id": "RYq8kqvrzl6o",
        "outputId": "9030edae-29db-4499-f22c-876034ea419d"
      },
      "execution_count": null,
      "outputs": [
        {
          "output_type": "stream",
          "name": "stdout",
          "text": [
            "['Sabha', 'Sujain', 'akash', 'neha', 'preeti']\n",
            "['preeti', 'neha', 'akash', 'Sujain', 'Sabha']\n"
          ]
        }
      ]
    },
    {
      "cell_type": "code",
      "source": [
        "# List Method\n",
        "# Append\n",
        "my_list = [1,2,5,4,7,99]\n",
        "my_list.append(45)\n",
        "print(my_list)"
      ],
      "metadata": {
        "colab": {
          "base_uri": "https://localhost:8080/"
        },
        "id": "QNT5Pnzf0rpW",
        "outputId": "5e2f0b43-bbfd-4245-a050-df80e21a795d"
      },
      "execution_count": null,
      "outputs": [
        {
          "output_type": "stream",
          "name": "stdout",
          "text": [
            "[1, 2, 5, 4, 7, 99, 45]\n"
          ]
        }
      ]
    },
    {
      "cell_type": "code",
      "source": [
        "my_list.append([1,4,3])\n",
        "print(my_list)"
      ],
      "metadata": {
        "colab": {
          "base_uri": "https://localhost:8080/"
        },
        "id": "AWso0VFp1z3g",
        "outputId": "4476a0f4-faa2-4790-887d-8a0782b91110"
      },
      "execution_count": null,
      "outputs": [
        {
          "output_type": "stream",
          "name": "stdout",
          "text": [
            "[1, 2, 5, 4, 7, 99, 45, [1, 4, 3]]\n"
          ]
        }
      ]
    },
    {
      "cell_type": "code",
      "source": [
        "# Extend\n",
        "my_list.extend([11,3,8])\n",
        "print(my_list)"
      ],
      "metadata": {
        "colab": {
          "base_uri": "https://localhost:8080/"
        },
        "id": "owvwAQ1x2DoJ",
        "outputId": "f107645b-a3db-45d8-caf1-e50acb5b3f6d"
      },
      "execution_count": null,
      "outputs": [
        {
          "output_type": "stream",
          "name": "stdout",
          "text": [
            "[1, 2, 5, 4, 7, 99, 45, [1, 4, 3], 11, 3, 8]\n"
          ]
        }
      ]
    },
    {
      "cell_type": "code",
      "source": [
        "# POp\n",
        "print(my_list.pop())\n",
        "print(my_list)\n"
      ],
      "metadata": {
        "id": "O0-3qGrm2X9J",
        "colab": {
          "base_uri": "https://localhost:8080/"
        },
        "outputId": "248aebfd-ca4d-4f1d-98b6-f7a3aa0abb90"
      },
      "execution_count": null,
      "outputs": [
        {
          "output_type": "stream",
          "name": "stdout",
          "text": [
            "11\n",
            "[1, 2, 5, 4, 7, 99, 45, [1, 4, 3]]\n"
          ]
        }
      ]
    },
    {
      "cell_type": "code",
      "source": [
        "print(my_list.pop(4))\n",
        "print(my_list)"
      ],
      "metadata": {
        "colab": {
          "base_uri": "https://localhost:8080/"
        },
        "id": "0QylBS3w0jAm",
        "outputId": "9120c78c-1c6e-4e13-d409-b76fd59ec3a8"
      },
      "execution_count": null,
      "outputs": [
        {
          "output_type": "stream",
          "name": "stdout",
          "text": [
            "7\n",
            "[1, 2, 5, 4, 99, 45, [1, 4, 3]]\n"
          ]
        }
      ]
    },
    {
      "cell_type": "code",
      "source": [
        "# remove()\n",
        "k_list = [1,2,3,4,5,6,7]\n",
        "k_list.remove(5)\n",
        "print(k_list)"
      ],
      "metadata": {
        "colab": {
          "base_uri": "https://localhost:8080/"
        },
        "id": "sPKUAjQy1H57",
        "outputId": "05999fe8-c5e5-41a3-e59e-a800c80932f9"
      },
      "execution_count": null,
      "outputs": [
        {
          "output_type": "stream",
          "name": "stdout",
          "text": [
            "[1, 2, 3, 4, 6, 7]\n"
          ]
        }
      ]
    },
    {
      "cell_type": "code",
      "source": [
        "# clear-- clear the list--\n",
        "k_list.clear()\n",
        "k_list"
      ],
      "metadata": {
        "colab": {
          "base_uri": "https://localhost:8080/"
        },
        "id": "avR1eMlB1RGB",
        "outputId": "19273df4-8bb5-4411-fc52-16f95a2abf3b"
      },
      "execution_count": null,
      "outputs": [
        {
          "output_type": "execute_result",
          "data": {
            "text/plain": [
              "[]"
            ]
          },
          "metadata": {},
          "execution_count": 34
        }
      ]
    },
    {
      "cell_type": "code",
      "source": [
        "# count-- returns total occurance of specified element\n",
        "a_list = [1,2,45,2,5,2,6,8,5,3,3,6,8,'jyoti']\n",
        "a_list.count(2)"
      ],
      "metadata": {
        "colab": {
          "base_uri": "https://localhost:8080/"
        },
        "id": "lNghH9Xc2EIa",
        "outputId": "4bf42d7d-0e34-42c0-dc5d-3ac5cc14c7a2"
      },
      "execution_count": null,
      "outputs": [
        {
          "output_type": "execute_result",
          "data": {
            "text/plain": [
              "3"
            ]
          },
          "metadata": {},
          "execution_count": 31
        }
      ]
    },
    {
      "cell_type": "code",
      "source": [
        "# index()-returns the index of specified element\n",
        "print(a_list.index(45))\n",
        "print(a_list.index('jyoti'))"
      ],
      "metadata": {
        "colab": {
          "base_uri": "https://localhost:8080/"
        },
        "id": "QCJcuPoF2csO",
        "outputId": "bd5483ff-aef7-49e0-b987-8c374bc96852"
      },
      "execution_count": null,
      "outputs": [
        {
          "output_type": "stream",
          "name": "stdout",
          "text": [
            "2\n",
            "13\n"
          ]
        }
      ]
    },
    {
      "cell_type": "code",
      "source": [
        "#sort() - sort either ascending or descending order\n",
        "b_list = [4,2,67,45,3,6,8,65,4,3,3]\n",
        "b_list.sort()\n",
        "b_list"
      ],
      "metadata": {
        "colab": {
          "base_uri": "https://localhost:8080/"
        },
        "id": "1Do9OtG-2TMU",
        "outputId": "0855b45d-2c02-40e6-880e-d981dfc7861e"
      },
      "execution_count": null,
      "outputs": [
        {
          "output_type": "execute_result",
          "data": {
            "text/plain": [
              "[2, 3, 3, 3, 4, 4, 6, 8, 45, 65, 67]"
            ]
          },
          "metadata": {},
          "execution_count": 40
        }
      ]
    },
    {
      "cell_type": "code",
      "source": [
        "#  reverse()- reverse the list\n",
        "b_list.reverse()\n",
        "b_list"
      ],
      "metadata": {
        "colab": {
          "base_uri": "https://localhost:8080/"
        },
        "id": "f8n7E38G5WZS",
        "outputId": "324445cb-3ce2-4378-f69d-7195298a8380"
      },
      "execution_count": null,
      "outputs": [
        {
          "output_type": "execute_result",
          "data": {
            "text/plain": [
              "[67, 65, 45, 8, 6, 4, 4, 3, 3, 3, 2]"
            ]
          },
          "metadata": {},
          "execution_count": 41
        }
      ]
    },
    {
      "cell_type": "code",
      "source": [
        "import array as arr\n",
        "\n",
        "# creating an integer data type array\n",
        "x = arr.array('i', [1,2,3,4,5,6,7])\n",
        "\n",
        "\n",
        "# creatomg a list\n",
        "y = [8, 9, 10]\n",
        "\n",
        "# using the fromlist() function\n",
        "x.fromlist(y)\n",
        "\n",
        "# Printing the new array\n",
        "print(x)\n"
      ],
      "metadata": {
        "colab": {
          "base_uri": "https://localhost:8080/"
        },
        "id": "ROeUdOzz6Qxm",
        "outputId": "b3774386-9b71-44b4-efa1-31a1396c1eff"
      },
      "execution_count": null,
      "outputs": [
        {
          "output_type": "stream",
          "name": "stdout",
          "text": [
            "array('i', [1, 2, 3, 4, 5, 6, 7, 8, 9, 10])\n"
          ]
        }
      ]
    },
    {
      "cell_type": "code",
      "source": [
        "x.tolist()\n",
        "x"
      ],
      "metadata": {
        "colab": {
          "base_uri": "https://localhost:8080/"
        },
        "id": "Ba5YG0Aj8szN",
        "outputId": "c9425052-fc9d-46bc-9a73-9bb978301d1f"
      },
      "execution_count": null,
      "outputs": [
        {
          "output_type": "execute_result",
          "data": {
            "text/plain": [
              "array('i', [1, 2, 3, 4, 5, 6, 7])"
            ]
          },
          "metadata": {},
          "execution_count": 45
        }
      ]
    },
    {
      "cell_type": "markdown",
      "source": [
        "**Tuples, Sets and Dictionary**\n",
        "\n",
        "Tuple is immutable"
      ],
      "metadata": {
        "id": "3m52pgge98ET"
      }
    },
    {
      "cell_type": "code",
      "source": [
        "# use () bracket for tuple\n",
        "my_tuple = (1,2,3,4,5)\n",
        "my_tuple"
      ],
      "metadata": {
        "colab": {
          "base_uri": "https://localhost:8080/"
        },
        "id": "xqbImm8a9bs9",
        "outputId": "71d79aa9-4f08-4be1-f8c7-f4ab5b3e91a6"
      },
      "execution_count": null,
      "outputs": [
        {
          "output_type": "execute_result",
          "data": {
            "text/plain": [
              "(1, 2, 3, 4, 5)"
            ]
          },
          "metadata": {},
          "execution_count": 46
        }
      ]
    },
    {
      "cell_type": "code",
      "source": [
        "# tuple indexing , tuple slicing working is same a string or list working\n",
        "# remember to see brackets\n",
        "print(my_tuple[2])"
      ],
      "metadata": {
        "colab": {
          "base_uri": "https://localhost:8080/"
        },
        "id": "TY7bOg_d2sPk",
        "outputId": "dfbf53b4-1018-4063-fad9-51a50cf52974"
      },
      "execution_count": null,
      "outputs": [
        {
          "output_type": "stream",
          "name": "stdout",
          "text": [
            "3\n"
          ]
        }
      ]
    },
    {
      "cell_type": "code",
      "source": [
        "# indexing\n",
        "my_tuple = (1,2,3,4,5)\n",
        "my_tuple.index(2)"
      ],
      "metadata": {
        "colab": {
          "base_uri": "https://localhost:8080/"
        },
        "id": "ARy0iOwF3Z6R",
        "outputId": "383eb9b9-13c9-42e5-dcb6-270ca88bb8b8"
      },
      "execution_count": null,
      "outputs": [
        {
          "output_type": "execute_result",
          "data": {
            "text/plain": [
              "1"
            ]
          },
          "metadata": {},
          "execution_count": 50
        }
      ]
    },
    {
      "cell_type": "code",
      "source": [
        "# Tuple does not support method such as append(), extend(), remove(), pop()"
      ],
      "metadata": {
        "id": "HMmeWlpn3xed"
      },
      "execution_count": null,
      "outputs": []
    },
    {
      "cell_type": "code",
      "source": [
        "# zip()\n",
        "city_list = ['del','pat','cutt','guw']\n",
        "riv_list = ['yam','ganga','mahanadi','brahmputra']\n",
        "city_river = list(zip(city_list,riv_list))\n",
        "print(city_river)"
      ],
      "metadata": {
        "colab": {
          "base_uri": "https://localhost:8080/"
        },
        "id": "-uILfCJU4TPK",
        "outputId": "dced5a34-ced9-4415-c1a8-700eae0b2b27"
      },
      "execution_count": null,
      "outputs": [
        {
          "output_type": "stream",
          "name": "stdout",
          "text": [
            "[('del', 'yam'), ('pat', 'ganga'), ('cutt', 'mahanadi'), ('guw', 'brahmputra')]\n"
          ]
        }
      ]
    },
    {
      "cell_type": "code",
      "source": [
        "# convert to dictionary\n",
        "dict_1 = dict(city_river)\n",
        "dict_1"
      ],
      "metadata": {
        "colab": {
          "base_uri": "https://localhost:8080/"
        },
        "id": "qGq0Rggf5ENK",
        "outputId": "dea7e24d-fe6d-4841-d9b8-f7fe3b870373"
      },
      "execution_count": null,
      "outputs": [
        {
          "output_type": "execute_result",
          "data": {
            "text/plain": [
              "{'del': 'yam', 'pat': 'ganga', 'cutt': 'mahanadi', 'guw': 'brahmputra'}"
            ]
          },
          "metadata": {},
          "execution_count": 52
        }
      ]
    },
    {
      "cell_type": "markdown",
      "source": [
        "**SET**"
      ],
      "metadata": {
        "id": "w_9dCwIx5Yz-"
      }
    },
    {
      "cell_type": "code",
      "source": [
        "# empty_set =set()\n",
        "# non_emppty_set = {1,3,5,'abc'}\n"
      ],
      "metadata": {
        "id": "MnaGmFXP5eLn"
      },
      "execution_count": null,
      "outputs": []
    },
    {
      "cell_type": "code",
      "source": [
        "my_list = [1,1,2,4,3,3,2,4,6,5,4,3,3,8,7,6,5,4]\n",
        "my_set = set(my_list)\n",
        "my_set"
      ],
      "metadata": {
        "colab": {
          "base_uri": "https://localhost:8080/"
        },
        "id": "KP1AehYV5u9w",
        "outputId": "4aeaff10-8cb3-4df5-ec21-51769f45708e"
      },
      "execution_count": null,
      "outputs": [
        {
          "output_type": "execute_result",
          "data": {
            "text/plain": [
              "{1, 2, 3, 4, 5, 6, 7, 8}"
            ]
          },
          "metadata": {},
          "execution_count": 54
        }
      ]
    },
    {
      "cell_type": "code",
      "source": [
        "# Set can't have mutable item but set is mutable \n",
        "my_set = {1,2,[3,4]}\n",
        "my_set"
      ],
      "metadata": {
        "colab": {
          "base_uri": "https://localhost:8080/",
          "height": 200
        },
        "id": "Sz_eX9ze76wX",
        "outputId": "7a8de708-06f3-45a7-eb5d-424becaf9e8a"
      },
      "execution_count": null,
      "outputs": [
        {
          "output_type": "error",
          "ename": "TypeError",
          "evalue": "ignored",
          "traceback": [
            "\u001b[0;31m---------------------------------------------------------------------------\u001b[0m",
            "\u001b[0;31mTypeError\u001b[0m                                 Traceback (most recent call last)",
            "\u001b[0;32m<ipython-input-55-7b5703986225>\u001b[0m in \u001b[0;36m<cell line: 2>\u001b[0;34m()\u001b[0m\n\u001b[1;32m      1\u001b[0m \u001b[0;31m# Set can't have mutable item but set is mutable\u001b[0m\u001b[0;34m\u001b[0m\u001b[0;34m\u001b[0m\u001b[0m\n\u001b[0;32m----> 2\u001b[0;31m \u001b[0mmy_set\u001b[0m \u001b[0;34m=\u001b[0m \u001b[0;34m{\u001b[0m\u001b[0;36m1\u001b[0m\u001b[0;34m,\u001b[0m\u001b[0;36m2\u001b[0m\u001b[0;34m,\u001b[0m\u001b[0;34m[\u001b[0m\u001b[0;36m3\u001b[0m\u001b[0;34m,\u001b[0m\u001b[0;36m4\u001b[0m\u001b[0;34m]\u001b[0m\u001b[0;34m}\u001b[0m\u001b[0;34m\u001b[0m\u001b[0;34m\u001b[0m\u001b[0m\n\u001b[0m\u001b[1;32m      3\u001b[0m \u001b[0mmy_set\u001b[0m\u001b[0;34m\u001b[0m\u001b[0;34m\u001b[0m\u001b[0m\n",
            "\u001b[0;31mTypeError\u001b[0m: unhashable type: 'list'"
          ]
        }
      ]
    },
    {
      "cell_type": "markdown",
      "source": [
        "*Sets Methods*"
      ],
      "metadata": {
        "id": "xy8sJqBqj9Yc"
      }
    },
    {
      "cell_type": "code",
      "source": [
        "# Add\n",
        "my_set = set()\n",
        "my_set.add('a')\n",
        "my_set"
      ],
      "metadata": {
        "id": "VwupuIk38S5x",
        "colab": {
          "base_uri": "https://localhost:8080/"
        },
        "outputId": "097083e9-cb78-4e63-a487-9a2fed947a73"
      },
      "execution_count": 2,
      "outputs": [
        {
          "output_type": "execute_result",
          "data": {
            "text/plain": [
              "{'a'}"
            ]
          },
          "metadata": {},
          "execution_count": 2
        }
      ]
    },
    {
      "cell_type": "code",
      "source": [
        "# update-- add multiple element to set\n",
        "my_set1 = {4,2,6,8}\n",
        "my_set1.update([2,7,4])\n",
        "my_set1\n"
      ],
      "metadata": {
        "colab": {
          "base_uri": "https://localhost:8080/"
        },
        "id": "rdzRLQ_NkK0D",
        "outputId": "63af1c38-20ac-48fe-c88b-c478a0fcb255"
      },
      "execution_count": 3,
      "outputs": [
        {
          "output_type": "execute_result",
          "data": {
            "text/plain": [
              "{2, 4, 6, 7, 8}"
            ]
          },
          "metadata": {},
          "execution_count": 3
        }
      ]
    },
    {
      "cell_type": "code",
      "source": [
        "# Remove()--remove an item or element from set\n",
        "my_set2 ={2,4,6,8,9,32,5}\n",
        "my_set2.remove(32)\n",
        "my_set2"
      ],
      "metadata": {
        "colab": {
          "base_uri": "https://localhost:8080/"
        },
        "id": "6EEEAJDmkqx2",
        "outputId": "f692b9d9-d86a-49be-b131-69909c462e30"
      },
      "execution_count": 5,
      "outputs": [
        {
          "output_type": "execute_result",
          "data": {
            "text/plain": [
              "{2, 4, 5, 6, 8, 9}"
            ]
          },
          "metadata": {},
          "execution_count": 5
        }
      ]
    },
    {
      "cell_type": "code",
      "source": [
        "# Union()-- Also denoted by '|'\n",
        "a = {1,2,3,4,5,6}\n",
        "b = {4,6,87,9,6}\n",
        "print(a|b)\n",
        "# or print(a.union(b))"
      ],
      "metadata": {
        "colab": {
          "base_uri": "https://localhost:8080/"
        },
        "id": "Z_Jpq_N0le2-",
        "outputId": "7b071c2c-c439-4b2e-ace6-67114f01fc97"
      },
      "execution_count": 8,
      "outputs": [
        {
          "output_type": "stream",
          "name": "stdout",
          "text": [
            "{1, 2, 3, 4, 5, 6, 9, 87}\n"
          ]
        }
      ]
    },
    {
      "cell_type": "code",
      "source": [
        "# Intersection() --- Also denoted by '&'\n",
        "a = {1,2,3,4,5,6}\n",
        "b = {4,6,87,9,6}\n",
        "print(a&b)\n",
        "# or print(a.intersection(b))"
      ],
      "metadata": {
        "colab": {
          "base_uri": "https://localhost:8080/"
        },
        "id": "tlqyk3YmmKdK",
        "outputId": "49c2f1ce-77b4-43b7-83bd-c51a30a9b355"
      },
      "execution_count": 9,
      "outputs": [
        {
          "output_type": "stream",
          "name": "stdout",
          "text": [
            "{4, 6}\n"
          ]
        }
      ]
    },
    {
      "cell_type": "code",
      "source": [
        "# Difference()---returns difference of two set i.e.(a-b)\n",
        "a = {1,2,3,4,5,6}\n",
        "b = {4,6,87,9,6}\n",
        "print(a-b)\n",
        "# or print(a.difference(b))"
      ],
      "metadata": {
        "colab": {
          "base_uri": "https://localhost:8080/"
        },
        "id": "7hyk-7jfnSr9",
        "outputId": "be081bf7-4f63-4c66-ac6e-3ef453cd6ca3"
      },
      "execution_count": 10,
      "outputs": [
        {
          "output_type": "stream",
          "name": "stdout",
          "text": [
            "{1, 2, 3, 5}\n"
          ]
        }
      ]
    },
    {
      "cell_type": "code",
      "source": [
        "# Symmetric Difference--denoted by '^' returns the set of elements in a&b but not in both{ or excluding intersection}\n",
        "a = {1,2,3,4,5,6}\n",
        "b = {4,6,87,9,6}\n",
        "print(a^b)\n",
        "# print(a.symmetric_difference)"
      ],
      "metadata": {
        "colab": {
          "base_uri": "https://localhost:8080/"
        },
        "id": "MYRycv6mn-fK",
        "outputId": "9194c2dd-6f03-4980-8b59-8722dbebbc8e"
      },
      "execution_count": 11,
      "outputs": [
        {
          "output_type": "stream",
          "name": "stdout",
          "text": [
            "{1, 2, 3, 5, 9, 87}\n"
          ]
        }
      ]
    },
    {
      "cell_type": "markdown",
      "source": [
        "**Dictionary**"
      ],
      "metadata": {
        "id": "HDd2s0h_qC0_"
      }
    },
    {
      "cell_type": "markdown",
      "source": [
        "*Dictionary Method*"
      ],
      "metadata": {
        "id": "7J943eBKrW-p"
      }
    },
    {
      "cell_type": "code",
      "source": [
        "marvel_dict = {'name':'thor','place':'asgard','weapon':'hammer',3:'power'}\n",
        "marvel_dict['place']"
      ],
      "metadata": {
        "colab": {
          "base_uri": "https://localhost:8080/",
          "height": 35
        },
        "id": "8wp4Rwe1p-4s",
        "outputId": "628ae2cc-72a0-4328-dd0d-e4c4064302c3"
      },
      "execution_count": 13,
      "outputs": [
        {
          "output_type": "execute_result",
          "data": {
            "text/plain": [
              "'asgard'"
            ],
            "application/vnd.google.colaboratory.intrinsic+json": {
              "type": "string"
            }
          },
          "metadata": {},
          "execution_count": 13
        }
      ]
    },
    {
      "cell_type": "code",
      "source": [
        "#keys()\n",
        "list(marvel_dict.keys())"
      ],
      "metadata": {
        "colab": {
          "base_uri": "https://localhost:8080/"
        },
        "id": "717YFPK9sRTO",
        "outputId": "a3dde8ba-51f5-45e9-c4ca-e1057bdbda4c"
      },
      "execution_count": 15,
      "outputs": [
        {
          "output_type": "execute_result",
          "data": {
            "text/plain": [
              "['name', 'place', 'weapon', 3]"
            ]
          },
          "metadata": {},
          "execution_count": 15
        }
      ]
    },
    {
      "cell_type": "code",
      "source": [
        "# values()\n",
        "list(marvel_dict.values())"
      ],
      "metadata": {
        "colab": {
          "base_uri": "https://localhost:8080/"
        },
        "id": "ZpVH-GGKsgQs",
        "outputId": "b121df36-f3db-4cef-b6e9-de62f3458176"
      },
      "execution_count": 16,
      "outputs": [
        {
          "output_type": "execute_result",
          "data": {
            "text/plain": [
              "['thor', 'asgard', 'hammer', 'power']"
            ]
          },
          "metadata": {},
          "execution_count": 16
        }
      ]
    },
    {
      "cell_type": "code",
      "source": [
        "# items()\n",
        "list(marvel_dict.items())"
      ],
      "metadata": {
        "colab": {
          "base_uri": "https://localhost:8080/"
        },
        "id": "P01CJqu8sqB_",
        "outputId": "769b0f8c-a69c-4659-eedc-9290f0aecd93"
      },
      "execution_count": 17,
      "outputs": [
        {
          "output_type": "execute_result",
          "data": {
            "text/plain": [
              "[('name', 'thor'), ('place', 'asgard'), ('weapon', 'hammer'), (3, 'power')]"
            ]
          },
          "metadata": {},
          "execution_count": 17
        }
      ]
    },
    {
      "cell_type": "code",
      "source": [
        "# get()-- takes the key as argument & return non if the key is not found in dictionary\n",
        "print(marvel_dict.get('place'))\n",
        "print(marvel_dict.get('random','not found'))"
      ],
      "metadata": {
        "colab": {
          "base_uri": "https://localhost:8080/"
        },
        "id": "CnC3q064tCDf",
        "outputId": "c041d536-86d3-4fdf-9844-633c1cb4ace0"
      },
      "execution_count": 20,
      "outputs": [
        {
          "output_type": "stream",
          "name": "stdout",
          "text": [
            "asgard\n",
            "not found\n"
          ]
        }
      ]
    },
    {
      "cell_type": "code",
      "source": [
        "# update()--\n",
        "marvel_dict.update({'raj':'simran'})\n",
        "print(marvel_dict)"
      ],
      "metadata": {
        "colab": {
          "base_uri": "https://localhost:8080/"
        },
        "id": "dIeG9xRWuTA9",
        "outputId": "768d088a-9b46-45b2-8b21-75a0274a4d5b"
      },
      "execution_count": 21,
      "outputs": [
        {
          "output_type": "stream",
          "name": "stdout",
          "text": [
            "{'name': 'thor', 'place': 'asgard', 'weapon': 'hammer', 3: 'power', 'raj': 'simran'}\n"
          ]
        }
      ]
    },
    {
      "cell_type": "code",
      "source": [
        "marvel_dict['name'] = marvel_dict['name']+' '+ 'rajesh'\n",
        "print(marvel_dict)"
      ],
      "metadata": {
        "colab": {
          "base_uri": "https://localhost:8080/"
        },
        "id": "UbRsOR4JvJ2b",
        "outputId": "377a9cf5-7ec8-4968-c509-7c563c717c6d"
      },
      "execution_count": 24,
      "outputs": [
        {
          "output_type": "stream",
          "name": "stdout",
          "text": [
            "{'name': 'thor rajesh', 'place': 'asgard', 'weapon': 'hammer', 3: 'power', 'raj': 'simran'}\n"
          ]
        }
      ]
    },
    {
      "cell_type": "code",
      "source": [
        "# dict()-- also create dictionary object from sequence of items which are n pair\n",
        "country_city_list = [('india','new delhi'),('australia','canberra'),('england','london')]\n",
        "country_city_dict = dict(country_city_list)\n",
        "print(country_city_dict)"
      ],
      "metadata": {
        "colab": {
          "base_uri": "https://localhost:8080/"
        },
        "id": "MrvACRoLv-jE",
        "outputId": "f022aca6-93df-48e3-fa84-191848ee2f32"
      },
      "execution_count": 27,
      "outputs": [
        {
          "output_type": "stream",
          "name": "stdout",
          "text": [
            "{'india': 'new delhi', 'australia': 'canberra', 'england': 'london'}\n"
          ]
        }
      ]
    },
    {
      "cell_type": "code",
      "source": [
        "# pop()- removes & retrun an element from dict hav ing key\n",
        "country_city_dict.pop('england')"
      ],
      "metadata": {
        "colab": {
          "base_uri": "https://localhost:8080/",
          "height": 35
        },
        "id": "JArEvhU6i86x",
        "outputId": "3ba2edf6-a367-45b5-8cb0-5e843cd68bee"
      },
      "execution_count": 29,
      "outputs": [
        {
          "output_type": "execute_result",
          "data": {
            "text/plain": [
              "'london'"
            ],
            "application/vnd.google.colaboratory.intrinsic+json": {
              "type": "string"
            }
          },
          "metadata": {},
          "execution_count": 29
        }
      ]
    },
    {
      "cell_type": "code",
      "source": [
        "country_city_dict"
      ],
      "metadata": {
        "colab": {
          "base_uri": "https://localhost:8080/"
        },
        "id": "9bd-Q-q2jyMM",
        "outputId": "0ee1c76e-9912-4483-846f-e63eedcc4863"
      },
      "execution_count": 32,
      "outputs": [
        {
          "output_type": "execute_result",
          "data": {
            "text/plain": [
              "{'india': 'new delhi', 'australia': 'canberra'}"
            ]
          },
          "metadata": {},
          "execution_count": 32
        }
      ]
    },
    {
      "cell_type": "code",
      "source": [
        "# zip\n",
        "name = ['manjeet','nikhil','shambhan']\n",
        "marks = [40, 50, 60]\n",
        "mapped = zip(name,marks)\n",
        "print(mapped)\n",
        "print(dict(mapped))"
      ],
      "metadata": {
        "colab": {
          "base_uri": "https://localhost:8080/"
        },
        "id": "yTlJVRE1j_hy",
        "outputId": "213b20ef-f022-40c7-b734-634fe28cc35e"
      },
      "execution_count": 35,
      "outputs": [
        {
          "output_type": "stream",
          "name": "stdout",
          "text": [
            "<zip object at 0x7ffa1ee37dc0>\n",
            "{'manjeet': 40, 'nikhil': 50, 'shambhan': 60}\n"
          ]
        }
      ]
    }
  ]
}